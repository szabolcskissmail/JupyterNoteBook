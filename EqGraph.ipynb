{
 "cells": [
  {
   "cell_type": "markdown",
   "id": "f6348d49",
   "metadata": {},
   "source": [
    "# Solving equations using a graphical method\n",
    "My hypothesis is that the intersection point of the x and y axes of a straight line drawn to the intersection points of two circles can also be calculated with an equation."
   ]
  },
  {
   "cell_type": "code",
   "execution_count": 17,
   "id": "5c2e9f14-8d14-4708-b34f-f00f2610da92",
   "metadata": {
    "tags": []
   },
   "outputs": [
    {
     "data": {
      "application/vnd.jupyter.widget-view+json": {
       "model_id": "7a73013608b04e3c8f16317a034c7d8d",
       "version_major": 2,
       "version_minor": 0
      },
      "text/plain": [
       "IntSlider(value=5, description='cx1', max=8, min=-8)"
      ]
     },
     "metadata": {},
     "output_type": "display_data"
    },
    {
     "data": {
      "application/vnd.jupyter.widget-view+json": {
       "model_id": "b2367ede135446488400509ab3e20544",
       "version_major": 2,
       "version_minor": 0
      },
      "text/plain": [
       "IntSlider(value=-5, description='cy1', max=8, min=-8)"
      ]
     },
     "metadata": {},
     "output_type": "display_data"
    },
    {
     "data": {
      "application/vnd.jupyter.widget-view+json": {
       "model_id": "b70ca2084e504ca7866160341ad24e8e",
       "version_major": 2,
       "version_minor": 0
      },
      "text/plain": [
       "IntSlider(value=6, description='rx1', max=8, min=1)"
      ]
     },
     "metadata": {},
     "output_type": "display_data"
    },
    {
     "data": {
      "application/vnd.jupyter.widget-view+json": {
       "model_id": "efc8c731939d4b11b5f1213c7a9541c7",
       "version_major": 2,
       "version_minor": 0
      },
      "text/plain": [
       "IntSlider(value=-4, description='cx2', max=8, min=-8)"
      ]
     },
     "metadata": {},
     "output_type": "display_data"
    },
    {
     "data": {
      "application/vnd.jupyter.widget-view+json": {
       "model_id": "88ed01ebd68e4ce2849d24a2b1e6495c",
       "version_major": 2,
       "version_minor": 0
      },
      "text/plain": [
       "IntSlider(value=-1, description='cy2', max=8, min=-8)"
      ]
     },
     "metadata": {},
     "output_type": "display_data"
    },
    {
     "data": {
      "application/vnd.jupyter.widget-view+json": {
       "model_id": "b445dd9485724542975d21d77fc79cf3",
       "version_major": 2,
       "version_minor": 0
      },
      "text/plain": [
       "IntSlider(value=5, description='rx2', max=8, min=1)"
      ]
     },
     "metadata": {},
     "output_type": "display_data"
    },
    {
     "data": {
      "application/vnd.jupyter.widget-view+json": {
       "model_id": "51d132ba565649aa9c34e5f18bf35a58",
       "version_major": 2,
       "version_minor": 0
      },
      "text/plain": [
       "Button(description='Plot', style=ButtonStyle())"
      ]
     },
     "metadata": {},
     "output_type": "display_data"
    },
    {
     "data": {
      "image/png": "[encoded data removed]",
      "text/plain": [
       "<Figure size 432x288 with 1 Axes>"
      ]
     },
     "metadata": {
      "needs_background": "light"
     },
     "output_type": "display_data"
    },
    {
     "name": "stdout",
     "output_type": "stream",
     "text": [
      "x=\n",
      "1.2222222222222223\n",
      "y=\n",
      "-2.7500000000000004\n",
      "\n",
      "5⋅x - 5⋅y = 6\n",
      "-4⋅x + y = 5\n",
      "\n",
      "{x: -31/15, y: -49/15}\n"
     ]
    }
   ],
   "source": [
    "import matplotlib.pyplot as plt\n",
    "import numpy as np\n",
    "import math    \n",
    "import ipywidgets as widgets\n",
    "from IPython.display import display\n",
    "from IPython.display import clear_output\n",
    "import sympy as sp\n",
    "\n",
    "def get_line_intersection(line1, line2):\n",
    "    xdiff = (line1[0][0] - line1[1][0], line2[0][0] - line2[1][0])\n",
    "    ydiff = (line1[0][1] - line1[1][1], line2[0][1] - line2[1][1])\n",
    "\n",
    "    def det(a, b):\n",
    "        return a[0] * b[1] - a[1] * b[0]\n",
    "\n",
    "    div = det(xdiff, ydiff)\n",
    "    if div == 0:\n",
    "       return None\n",
    "\n",
    "    d = (det(*line1), det(*line2))\n",
    "    x = det(d, xdiff) / div\n",
    "    y = det(d, ydiff) / div\n",
    "    return x, y\n",
    "\n",
    "def get_intersections(x0, y0, r0, x1, y1, r1):\n",
    "    # circle 1: (x0, y0), radius r0\n",
    "    # circle 2: (x1, y1), radius r1\n",
    "\n",
    "    d=math.sqrt((x1-x0)**2 + (y1-y0)**2)\n",
    "    \n",
    "    # non intersecting\n",
    "    if d > r0 + r1 :\n",
    "        return None\n",
    "    # One circle within other\n",
    "    if d < abs(r0-r1):\n",
    "        return None\n",
    "    # coincident circles\n",
    "    if d == 0 and r0 == r1:\n",
    "        return None\n",
    "    else:\n",
    "        a=(r0**2-r1**2+d**2)/(2*d)\n",
    "        h=math.sqrt(r0**2-a**2)\n",
    "        x2=x0+a*(x1-x0)/d   \n",
    "        y2=y0+a*(y1-y0)/d   \n",
    "        x3=x2+h*(y1-y0)/d     \n",
    "        y3=y2-h*(x1-x0)/d \n",
    "\n",
    "        x4=x2-h*(y1-y0)/d\n",
    "        y4=y2+h*(x1-x0)/d\n",
    "        \n",
    "        return ((x3, y3), (x4, y4))\n",
    "    \n",
    "def calcValues():\n",
    "    # Init variables\n",
    "    c1x=wcx1.value\n",
    "    c1y=wcy1.value\n",
    "    c2x=wcx2.value\n",
    "    c2y=wcy2.value\n",
    "    r1=wr1.value\n",
    "    r2=wr2.value\n",
    "    xaxisMax = max(abs(c1x)+r1, abs(c2x)+r2)*2\n",
    "    yaxisMax = max(abs(c1y)+r1, abs(c2y)+r2)*2\n",
    "\n",
    "    fig, ax = plt.subplots()\n",
    "    plt.axis([-xaxisMax, xaxisMax, -yaxisMax, yaxisMax])\n",
    "    ax.spines['left'].set_position('center')\n",
    "    ax.spines['bottom'].set_position('center')\n",
    "    ax.spines['right'].set_color('none')\n",
    "    ax.spines['top'].set_color('none')\n",
    "    ax.xaxis.set_ticks_position('bottom')\n",
    "    ax.yaxis.set_ticks_position('left')\n",
    "    ax.set_ylabel('y')\n",
    "    ax.set_xlabel('x')\n",
    "    ax.set_title('Test')\n",
    "    ax.set_aspect('equal')\n",
    "\n",
    "    c1=plt.Circle((c1x,c1y),r1, fill=False, color='red')\n",
    "    c2=plt.Circle((c2x,c2y), r2, fill=False, color='red')\n",
    "    ax.add_artist(c1)\n",
    "    ax.add_artist(c2)\n",
    "    l=get_intersections(c1x,c1y, r1,c2x,c2y,r2)\n",
    "    if l!=None:\n",
    "        plt.axline(l[0],l[1], alpha=0.5)\n",
    "\n",
    "    axisXLine=((-xaxisMax,0),(xaxisMax,0))\n",
    "    plt.axline(axisXLine[0],axisXLine[1], alpha=0.5)\n",
    "    axisYLine=((0,-yaxisMax),(0, yaxisMax))\n",
    "    plt.axline(axisYLine[0],axisYLine[1], alpha=0.5)\n",
    "               \n",
    "    plt.show()\n",
    "    \n",
    "    gx=get_line_intersection(axisXLine, (l[0],l[1]))[0]\n",
    "    gy=get_line_intersection(axisYLine, (l[0],l[1]))[1]\n",
    "    print('x=')\n",
    "    print(gx)\n",
    "    print('y=')\n",
    "    print(gy)\n",
    "    \n",
    "    x, y = symbols('x, y')\n",
    "    eq1 = sp.Eq(c1x*x + c1y*y, r1)\n",
    "    eq2 = sp.Eq(c2x*x + c2y*y, r2)\n",
    "    print()\n",
    "    sp.pprint(eq1)\n",
    "    sp.pprint(eq2)\n",
    "    ans = sp.solve((eq1,eq2), (x, y))\n",
    "    print()\n",
    "    print(ans)\n",
    "\n",
    "\n",
    "wcx1 = widgets.IntSlider(value=5, min=-8,max=8,description='cx1')\n",
    "wcy1 = widgets.IntSlider(value=3, min=-8,max=8,description='cy1')\n",
    "wr1 = widgets.IntSlider(value=5, min=1,max=8,description='rx1')\n",
    "wcx2 = widgets.IntSlider(value=9, min=-8,max=8,description='cx2')\n",
    "wcy2 = widgets.IntSlider(value=8, min=-8,max=8,description='cy2')\n",
    "wr2 = widgets.IntSlider(value=5, min=1,max=8,description='rx2')\n",
    "\n",
    "button = widgets.Button(\n",
    "    description='Plot',\n",
    ")\n",
    "\n",
    "def showWidgets():\n",
    "    clear_output()\n",
    "    display(wcx1)\n",
    "    display(wcy1)\n",
    "    display(wr1)\n",
    "    display(wcx2)\n",
    "    display(wcy2)\n",
    "    display(wr2)\n",
    "    display(button)    \n",
    "\n",
    "@button.on_click\n",
    "def plot_on_click(b):\n",
    "    showWidgets()\n",
    "    calcValues()\n",
    "    \n",
    "showWidgets()\n",
    "calcValues()"
   ]
  },
  {
   "cell_type": "markdown",
   "id": "26d8624d",
   "metadata": {},
   "source": []
  },
  {
   "cell_type": "markdown",
   "id": "a17f1af7",
   "metadata": {},
   "source": []
  },
  {
   "cell_type": "markdown",
   "id": "72cc8758",
   "metadata": {},
   "source": []
  },
  {
   "cell_type": "code",
   "execution_count": null,
   "id": "0720eafb-b6ba-470a-a8c6-39a0846289ab",
   "metadata": {},
   "outputs": [],
   "source": []
  }
 ],
 "metadata": {
  "kernelspec": {
   "display_name": "Python 3 (ipykernel)",
   "language": "python",
   "name": "python3"
  },
  "language_info": {
   "codemirror_mode": {
    "name": "ipython",
    "version": 3
   },
   "file_extension": ".py",
   "mimetype": "text/x-python",
   "name": "python",
   "nbconvert_exporter": "python",
   "pygments_lexer": "ipython3",
   "version": "3.9.12"
  },
  "widgets": {
   "application/vnd.jupyter.widget-state+json": {
    "state": {
     "00ee055eb39845a5a2d665fca9bbe725": {
      "model_module": "@jupyter-widgets/controls",
      "model_module_version": "1.5.0",
      "model_name": "SliderStyleModel",
      "state": {
       "description_width": ""
      }
     },
     "01af338a5b3a4655a6f9bee898aa4f6e": {
      "model_module": "@jupyter-widgets/controls",
      "model_module_version": "1.5.0",
      "model_name": "SliderStyleModel",
      "state": {
       "description_width": ""
      }
     },
     "01f1a291ac2f430c968a32b3accc45fe": {
      "model_module": "@jupyter-widgets/controls",
      "model_module_version": "1.5.0",
      "model_name": "IntSliderModel",
      "state": {
       "description": "rx1",
       "layout": "IPY_MODEL_1157c551caf14244bb762c2880629515",
       "max": 8,
       "min": 1,
       "style": "IPY_MODEL_e166f40880fd46c3b516426d465623f2",
       "value": 5
      }
     },
     "022178f03d444a67be72fa2d92a3d8c7": {
      "model_module": "@jupyter-widgets/controls",
      "model_module_version": "1.5.0",
      "model_name": "IntSliderModel",
      "state": {
       "description": "cx2",
       "layout": "IPY_MODEL_6bf5d06d41574cfbbc3ad53dcb8722d0",
       "max": 8,
       "min": -8,
       "style": "IPY_MODEL_c2cd25a2b5284be1ac51bbaf657494f3",
       "value": 8
      }
     },
     "03674dc356264499a099d4369433806f": {
      "model_module": "@jupyter-widgets/controls",
      "model_module_version": "1.5.0",
      "model_name": "ButtonModel",
      "state": {
       "description": "Plot",
       "layout": "IPY_MODEL_69c7794c6e3349d3a7f0f971e6be2dd5",
       "style": "IPY_MODEL_2d368501a8c846ae9cc0935b6f7e7db3"
      }
     },
     "03e8ddbb9cf04bf881314a6e0361cfb6": {
      "model_module": "@jupyter-widgets/controls",
      "model_module_version": "1.5.0",
      "model_name": "IntSliderModel",
      "state": {
       "description": "rx1",
       "layout": "IPY_MODEL_fdae609275e740dfa132d20e3175a75d",
       "max": 8,
       "min": 1,
       "style": "IPY_MODEL_7bf1593530be4d089ad00ce8d3cb55e4",
       "value": 5
      }
     },
     "03f39bbff66547cf8bc02565e668cb75": {
      "model_module": "@jupyter-widgets/controls",
      "model_module_version": "1.5.0",
      "model_name": "IntSliderModel",
      "state": {
       "description": "rx1",
       "layout": "IPY_MODEL_ca59fff9dcc547f091526739a3280c8c",
       "max": 8,
       "min": 1,
       "style": "IPY_MODEL_6595c377d9534e788cdf6cfa48754d63",
       "value": 5
      }
     },
     "05d1c92bef5c46bbb523e0c61ac5ae28": {
      "model_module": "@jupyter-widgets/base",
      "model_module_version": "1.2.0",
      "model_name": "LayoutModel",
      "state": {}
     },
     "0605f5e83c0b4ba6b0c437ec5cb534c3": {
      "model_module": "@jupyter-widgets/base",
      "model_module_version": "1.2.0",
      "model_name": "LayoutModel",
      "state": {}
     },
     "06329c2218bb4989ad4b55ae605e335e": {
      "model_module": "@jupyter-widgets/controls",
      "model_module_version": "1.5.0",
      "model_name": "SliderStyleModel",
      "state": {
       "description_width": ""
      }
     },
     "0735cdec64cc432eb0fd9bd3290b4165": {
      "model_module": "@jupyter-widgets/controls",
      "model_module_version": "1.5.0",
      "model_name": "SliderStyleModel",
      "state": {
       "description_width": ""
      }
     },
     "07df4c2d14134648949daac141465811": {
      "model_module": "@jupyter-widgets/controls",
      "model_module_version": "1.5.0",
      "model_name": "ButtonModel",
      "state": {
       "description": "Plot",
       "layout": "IPY_MODEL_fcea464b33e44f54af75ff6a80141bab",
       "style": "IPY_MODEL_75b9d4e8415349e18139c19adb75d277"
      }
     },
     "080aa5f4f80a4d8d94a0bdc254f65c84": {
      "model_module": "@jupyter-widgets/base",
      "model_module_version": "1.2.0",
      "model_name": "LayoutModel",
      "state": {}
     },
     "096a6ab07ddf45aa8081d5b4cc9a55df": {
      "model_module": "@jupyter-widgets/base",
      "model_module_version": "1.2.0",
      "model_name": "LayoutModel",
      "state": {}
     },
     "0a98a7ea06734b5c9ed45321b7f189f0": {
      "model_module": "@jupyter-widgets/controls",
      "model_module_version": "1.5.0",
      "model_name": "ButtonModel",
      "state": {
       "description": "Plot",
       "layout": "IPY_MODEL_1bd127e9664b422ea658853c4f59f877",
       "style": "IPY_MODEL_4547924fa7ad4e4f8fb40a619c63d8e1"
      }
     },
     "0abee7de4ddc44fbbe500a3dada17697": {
      "model_module": "@jupyter-widgets/controls",
      "model_module_version": "1.5.0",
      "model_name": "SliderStyleModel",
      "state": {
       "description_width": ""
      }
     },
     "0af92c419eff40d1837782f977edeb22": {
      "model_module": "@jupyter-widgets/controls",
      "model_module_version": "1.5.0",
      "model_name": "SliderStyleModel",
      "state": {
       "description_width": ""
      }
     },
     "0b8f08bdfc014066b59c6561bbf1d886": {
      "model_module": "@jupyter-widgets/controls",
      "model_module_version": "1.5.0",
      "model_name": "ButtonModel",
      "state": {
       "description": "Plot",
       "layout": "IPY_MODEL_ae309076d5fd4b16be8592daafa3cbbe",
       "style": "IPY_MODEL_cb36aa89e05c470085fbad968a1bb6ca"
      }
     },
     "0be9139ebc844818976d05a667c434d7": {
      "model_module": "@jupyter-widgets/base",
      "model_module_version": "1.2.0",
      "model_name": "LayoutModel",
      "state": {}
     },
     "0e325027738d445db5262b6a465ce368": {
      "model_module": "@jupyter-widgets/base",
      "model_module_version": "1.2.0",
      "model_name": "LayoutModel",
      "state": {}
     },
     "0e838ebc114a4d15873ff730f9489c34": {
      "model_module": "@jupyter-widgets/controls",
      "model_module_version": "1.5.0",
      "model_name": "IntSliderModel",
      "state": {
       "description": "cx2",
       "layout": "IPY_MODEL_8adba5666d254043a43127dfc1ce9f0a",
       "max": 8,
       "min": -8,
       "style": "IPY_MODEL_2cdd45797ba648b3bcbf9e4e3125851f",
       "value": 8
      }
     },
     "0ff8b968b15a482a8153dcee2bb3301d": {
      "model_module": "@jupyter-widgets/controls",
      "model_module_version": "1.5.0",
      "model_name": "IntSliderModel",
      "state": {
       "description": "cx2",
       "layout": "IPY_MODEL_e3303e50afb24bb0b466a9316a21bac4",
       "max": 8,
       "min": -8,
       "style": "IPY_MODEL_5aaafa8840034d9a828104f629832eef",
       "value": 8
      }
     },
     "1157c551caf14244bb762c2880629515": {
      "model_module": "@jupyter-widgets/base",
      "model_module_version": "1.2.0",
      "model_name": "LayoutModel",
      "state": {}
     },
     "11c89786d6e64ae5b3dbdf518a4c3ea2": {
      "model_module": "@jupyter-widgets/controls",
      "model_module_version": "1.5.0",
      "model_name": "IntSliderModel",
      "state": {
       "description": "cy1",
       "layout": "IPY_MODEL_9f6a4ba2991d45e0be4776f39febc9fb",
       "max": 8,
       "min": -8,
       "style": "IPY_MODEL_8ff771b7354a4562a3ca3762ac980f71",
       "value": 3
      }
     },
     "11e442d89a954f36989d734a9fa82154": {
      "model_module": "@jupyter-widgets/controls",
      "model_module_version": "1.5.0",
      "model_name": "SliderStyleModel",
      "state": {
       "description_width": ""
      }
     },
     "1284587e295e4830a6aec4bfa559cc9a": {
      "model_module": "@jupyter-widgets/base",
      "model_module_version": "1.2.0",
      "model_name": "LayoutModel",
      "state": {}
     },
     "141f1ad48b06405b9c90ac89393daf42": {
      "model_module": "@jupyter-widgets/controls",
      "model_module_version": "1.5.0",
      "model_name": "IntSliderModel",
      "state": {
       "description": "cx2",
       "layout": "IPY_MODEL_b06b65e8ccdf4bb3aa282728c7db4ed7",
       "max": 8,
       "min": -8,
       "style": "IPY_MODEL_49b47d679cf2473aa6b12661b0fa7c1d",
       "value": 8
      }
     },
     "1451da12fa394866a6dec694b0153003": {
      "model_module": "@jupyter-widgets/controls",
      "model_module_version": "1.5.0",
      "model_name": "SliderStyleModel",
      "state": {
       "description_width": ""
      }
     },
     "1484dc05db0e4627a5a3fa6cd07c5b2c": {
      "model_module": "@jupyter-widgets/base",
      "model_module_version": "1.2.0",
      "model_name": "LayoutModel",
      "state": {}
     },
     "148c8d0875e9430a98b01539fb2c076d": {
      "model_module": "@jupyter-widgets/controls",
      "model_module_version": "1.5.0",
      "model_name": "IntSliderModel",
      "state": {
       "description": "rx2",
       "layout": "IPY_MODEL_1aa313471775415cabc304e6530fae67",
       "max": 8,
       "min": 1,
       "style": "IPY_MODEL_bb5c89a53abc43148e6cbebbcbe8d4ad",
       "value": 3
      }
     },
     "1509b3a81d2b4070b7b7e6bb39e9c202": {
      "model_module": "@jupyter-widgets/base",
      "model_module_version": "1.2.0",
      "model_name": "LayoutModel",
      "state": {}
     },
     "164037861e8a417592917a37986469cb": {
      "model_module": "@jupyter-widgets/base",
      "model_module_version": "1.2.0",
      "model_name": "LayoutModel",
      "state": {}
     },
     "1641f106562f4cd8b181919538a06072": {
      "model_module": "@jupyter-widgets/base",
      "model_module_version": "1.2.0",
      "model_name": "LayoutModel",
      "state": {}
     },
     "167f7ee5a50d4b59a76e66c582021f2f": {
      "model_module": "@jupyter-widgets/controls",
      "model_module_version": "1.5.0",
      "model_name": "IntSliderModel",
      "state": {
       "description": "rx2",
       "layout": "IPY_MODEL_248f30d174004fb792d17d1c290526a5",
       "max": 8,
       "min": 1,
       "style": "IPY_MODEL_0af92c419eff40d1837782f977edeb22",
       "value": 5
      }
     },
     "1744924bfeea4f5a9213c6582e640168": {
      "model_module": "@jupyter-widgets/controls",
      "model_module_version": "1.5.0",
      "model_name": "ButtonStyleModel",
      "state": {}
     },
     "1927fa5022b34c869114771dde1d9d08": {
      "model_module": "@jupyter-widgets/controls",
      "model_module_version": "1.5.0",
      "model_name": "IntSliderModel",
      "state": {
       "description": "rx2",
       "layout": "IPY_MODEL_8d88c11238b84dec88936a13ab0aacd3",
       "max": 8,
       "min": 1,
       "style": "IPY_MODEL_f4d571b5d2ab4afb8d52552eb2691293",
       "value": 5
      }
     },
     "19d08414cf60481dbd87bad34e02e6d8": {
      "model_module": "@jupyter-widgets/controls",
      "model_module_version": "1.5.0",
      "model_name": "SliderStyleModel",
      "state": {
       "description_width": ""
      }
     },
     "1a2ee0c5dfc64063a1c0bfdd738c4d28": {
      "model_module": "@jupyter-widgets/base",
      "model_module_version": "1.2.0",
      "model_name": "LayoutModel",
      "state": {}
     },
     "1a51f4dc1a914ddd842a8611bdc0f25a": {
      "model_module": "@jupyter-widgets/base",
      "model_module_version": "1.2.0",
      "model_name": "LayoutModel",
      "state": {}
     },
     "1a66e26af47f438797e9bcab00e0ed89": {
      "model_module": "@jupyter-widgets/controls",
      "model_module_version": "1.5.0",
      "model_name": "ButtonModel",
      "state": {
       "description": "Plot",
       "layout": "IPY_MODEL_1a51f4dc1a914ddd842a8611bdc0f25a",
       "style": "IPY_MODEL_344de9006e984744bac31c935f2af416"
      }
     },
     "1a856e9402744f5c9796b0043fdd6736": {
      "model_module": "@jupyter-widgets/controls",
      "model_module_version": "1.5.0",
      "model_name": "IntSliderModel",
      "state": {
       "description": "cy1",
       "layout": "IPY_MODEL_e67bc0f7f7d24e229bce90191328eb60",
       "max": 8,
       "min": -8,
       "style": "IPY_MODEL_f39790e842d841fda282ad19113fa195",
       "value": 3
      }
     },
     "1aa313471775415cabc304e6530fae67": {
      "model_module": "@jupyter-widgets/base",
      "model_module_version": "1.2.0",
      "model_name": "LayoutModel",
      "state": {}
     },
     "1b1eab538612443ab93a228f6943c4ff": {
      "model_module": "@jupyter-widgets/controls",
      "model_module_version": "1.5.0",
      "model_name": "SliderStyleModel",
      "state": {
       "description_width": ""
      }
     },
     "1b9ccd7edc6e45cd9196884a36dc3e05": {
      "model_module": "@jupyter-widgets/controls",
      "model_module_version": "1.5.0",
      "model_name": "IntSliderModel",
      "state": {
       "description": "rx1",
       "layout": "IPY_MODEL_f6ab1d8bdbb44b589dd35ecef539e755",
       "max": 8,
       "min": 1,
       "style": "IPY_MODEL_ff1ca218130a4c13a31ccb9bdccda73c",
       "value": 5
      }
     },
     "1bd127e9664b422ea658853c4f59f877": {
      "model_module": "@jupyter-widgets/base",
      "model_module_version": "1.2.0",
      "model_name": "LayoutModel",
      "state": {}
     },
     "1cac79bda34f4dd9901a829259fe4ab2": {
      "model_module": "@jupyter-widgets/base",
      "model_module_version": "1.2.0",
      "model_name": "LayoutModel",
      "state": {}
     },
     "1d05d217486f4342bd561d6a1f186208": {
      "model_module": "@jupyter-widgets/controls",
      "model_module_version": "1.5.0",
      "model_name": "IntSliderModel",
      "state": {
       "description": "cy2",
       "layout": "IPY_MODEL_ede013dc094b4569b9fc3c10f4fb26a2",
       "max": 8,
       "min": -8,
       "style": "IPY_MODEL_5a220f8271c246d58a2e51c6b4ddc4b8",
       "value": 8
      }
     },
     "1d8ce90cd7d146d09ed4ea7fe17e821e": {
      "model_module": "@jupyter-widgets/controls",
      "model_module_version": "1.5.0",
      "model_name": "SliderStyleModel",
      "state": {
       "description_width": ""
      }
     },
     "1e71d68d547d46a599b53fb647eca46d": {
      "model_module": "@jupyter-widgets/controls",
      "model_module_version": "1.5.0",
      "model_name": "IntSliderModel",
      "state": {
       "description": "cx1",
       "layout": "IPY_MODEL_82eee5982aa140d19e7b03847f79e3db",
       "max": 8,
       "min": -8,
       "style": "IPY_MODEL_dbdd96f738a7462a971fba798184d8bf",
       "value": 5
      }
     },
     "2006ca1f29f3403ba603de270e67402b": {
      "model_module": "@jupyter-widgets/base",
      "model_module_version": "1.2.0",
      "model_name": "LayoutModel",
      "state": {}
     },
     "200c35b1d5404824841b541586ff657b": {
      "model_module": "@jupyter-widgets/controls",
      "model_module_version": "1.5.0",
      "model_name": "IntSliderModel",
      "state": {
       "description": "cx1",
       "layout": "IPY_MODEL_0be9139ebc844818976d05a667c434d7",
       "max": 8,
       "min": -8,
       "style": "IPY_MODEL_4437fca6dea048fe96027b8df39bb72c",
       "value": 5
      }
     },
     "2083ba6cebfb4c189fbe2a1f9bfa2d66": {
      "model_module": "@jupyter-widgets/controls",
      "model_module_version": "1.5.0",
      "model_name": "SliderStyleModel",
      "state": {
       "description_width": ""
      }
     },
     "20ff1037f5df4a549a00d7f528aee7bc": {
      "model_module": "@jupyter-widgets/controls",
      "model_module_version": "1.5.0",
      "model_name": "SliderStyleModel",
      "state": {
       "description_width": ""
      }
     },
     "21d94af9ed004358bff34e8c487ea5bf": {
      "model_module": "@jupyter-widgets/controls",
      "model_module_version": "1.5.0",
      "model_name": "IntSliderModel",
      "state": {
       "description": "cy1",
       "layout": "IPY_MODEL_cbaefe28c8d9418bae053f14fb78064f",
       "max": 8,
       "min": -8,
       "style": "IPY_MODEL_5df87f6f28324dc49946f3596fe81f6b",
       "value": 3
      }
     },
     "23674fc8c025454d931038a7479678cc": {
      "model_module": "@jupyter-widgets/base",
      "model_module_version": "1.2.0",
      "model_name": "LayoutModel",
      "state": {}
     },
     "248f30d174004fb792d17d1c290526a5": {
      "model_module": "@jupyter-widgets/base",
      "model_module_version": "1.2.0",
      "model_name": "LayoutModel",
      "state": {}
     },
     "251b29c3422649ec93e69fe750946f92": {
      "model_module": "@jupyter-widgets/controls",
      "model_module_version": "1.5.0",
      "model_name": "SliderStyleModel",
      "state": {
       "description_width": ""
      }
     },
     "26f77eb8a31a484f955ef9a53077098d": {
      "model_module": "@jupyter-widgets/controls",
      "model_module_version": "1.5.0",
      "model_name": "IntSliderModel",
      "state": {
       "description": "rx1",
       "layout": "IPY_MODEL_97a9eee076ea4dc18128e093a86b54d4",
       "max": 8,
       "min": 1,
       "style": "IPY_MODEL_fa478c2f266742cf97a20e6d9cbf87c8",
       "value": 5
      }
     },
     "274d152bb8384137a3d020efd3f704af": {
      "model_module": "@jupyter-widgets/base",
      "model_module_version": "1.2.0",
      "model_name": "LayoutModel",
      "state": {}
     },
     "2828412f2b00471db994f6bf1229bc61": {
      "model_module": "@jupyter-widgets/controls",
      "model_module_version": "1.5.0",
      "model_name": "IntSliderModel",
      "state": {
       "description": "cx2",
       "layout": "IPY_MODEL_e91feb6532584291a215534b7bfdb1a2",
       "max": 8,
       "min": -8,
       "style": "IPY_MODEL_871287ec8bf84cbea537f73069ca5735",
       "value": 8
      }
     },
     "2acda1a7b4e44c7c80ffca3eb9b1d3bd": {
      "model_module": "@jupyter-widgets/controls",
      "model_module_version": "1.5.0",
      "model_name": "SliderStyleModel",
      "state": {
       "description_width": ""
      }
     },
     "2b20e194801947359a12a4dae8be4d09": {
      "model_module": "@jupyter-widgets/controls",
      "model_module_version": "1.5.0",
      "model_name": "SliderStyleModel",
      "state": {
       "description_width": ""
      }
     },
     "2b30874c19b44c81a43d195dbbf828f4": {
      "model_module": "@jupyter-widgets/controls",
      "model_module_version": "1.5.0",
      "model_name": "IntSliderModel",
      "state": {
       "description": "rx1",
       "layout": "IPY_MODEL_1509b3a81d2b4070b7b7e6bb39e9c202",
       "max": 8,
       "min": 1,
       "style": "IPY_MODEL_11e442d89a954f36989d734a9fa82154",
       "value": 5
      }
     },
     "2bf94e1dbd884185acacb5e7c277e461": {
      "model_module": "@jupyter-widgets/controls",
      "model_module_version": "1.5.0",
      "model_name": "IntSliderModel",
      "state": {
       "description": "cy2",
       "layout": "IPY_MODEL_23674fc8c025454d931038a7479678cc",
       "max": 8,
       "min": -8,
       "style": "IPY_MODEL_f6ba8b16599144fba906e33b4caa9ab8",
       "value": 8
      }
     },
     "2cdd45797ba648b3bcbf9e4e3125851f": {
      "model_module": "@jupyter-widgets/controls",
      "model_module_version": "1.5.0",
      "model_name": "SliderStyleModel",
      "state": {
       "description_width": ""
      }
     },
     "2cfafe87b3554d40ab39fef719408dcc": {
      "model_module": "@jupyter-widgets/controls",
      "model_module_version": "1.5.0",
      "model_name": "IntSliderModel",
      "state": {
       "description": "rx1",
       "layout": "IPY_MODEL_a192f696fb7d42f894b6935aa947e4ad",
       "max": 8,
       "min": 1,
       "style": "IPY_MODEL_0abee7de4ddc44fbbe500a3dada17697",
       "value": 5
      }
     },
     "2d368501a8c846ae9cc0935b6f7e7db3": {
      "model_module": "@jupyter-widgets/controls",
      "model_module_version": "1.5.0",
      "model_name": "ButtonStyleModel",
      "state": {}
     },
     "2dd2107609ea4730a088b26cf29cd6e4": {
      "model_module": "@jupyter-widgets/base",
      "model_module_version": "1.2.0",
      "model_name": "LayoutModel",
      "state": {}
     },
     "2e8d808711ee47b9ac1f14625cb31c5e": {
      "model_module": "@jupyter-widgets/controls",
      "model_module_version": "1.5.0",
      "model_name": "IntSliderModel",
      "state": {
       "description": "cy1",
       "layout": "IPY_MODEL_9b02e7d2d71545ab9990820084085455",
       "max": 8,
       "min": -8,
       "style": "IPY_MODEL_8dba78350ec047b1b49f6d76b5556afb",
       "value": 3
      }
     },
     "2eec0faa69584ec0b6daef0e232f0acb": {
      "model_module": "@jupyter-widgets/controls",
      "model_module_version": "1.5.0",
      "model_name": "IntSliderModel",
      "state": {
       "description": "cy1",
       "layout": "IPY_MODEL_a8d9f43c7357433d98cf2539e4dc6a16",
       "max": 8,
       "min": -8,
       "style": "IPY_MODEL_543a5eb26e904d48bbd0031001ed6aa1",
       "value": 3
      }
     },
     "2f22b80df17244d0bf54db7648fe5622": {
      "model_module": "@jupyter-widgets/base",
      "model_module_version": "1.2.0",
      "model_name": "LayoutModel",
      "state": {}
     },
     "2f85c6cc371543a5aa70269993a9dd3b": {
      "model_module": "@jupyter-widgets/controls",
      "model_module_version": "1.5.0",
      "model_name": "IntSliderModel",
      "state": {
       "description": "rx2",
       "layout": "IPY_MODEL_b0af7c0a0f1a41f2a29564fe0574b27f",
       "max": 8,
       "min": 1,
       "style": "IPY_MODEL_f0245e98c20f4057a7c4bdeee836b117",
       "value": 5
      }
     },
     "3091f92496584befba5c293b7bc6bec6": {
      "model_module": "@jupyter-widgets/controls",
      "model_module_version": "1.5.0",
      "model_name": "IntSliderModel",
      "state": {
       "description": "cx2",
       "layout": "IPY_MODEL_096a6ab07ddf45aa8081d5b4cc9a55df",
       "max": 8,
       "min": -8,
       "style": "IPY_MODEL_20ff1037f5df4a549a00d7f528aee7bc",
       "value": 8
      }
     },
     "31f6ce9393af494e9202435019275a3b": {
      "model_module": "@jupyter-widgets/base",
      "model_module_version": "1.2.0",
      "model_name": "LayoutModel",
      "state": {}
     },
     "32f69ed1dc9042119ed13b9e8fd4bac6": {
      "model_module": "@jupyter-widgets/controls",
      "model_module_version": "1.5.0",
      "model_name": "SliderStyleModel",
      "state": {
       "description_width": ""
      }
     },
     "330b8a68aab64277826a14ace5ba701f": {
      "model_module": "@jupyter-widgets/base",
      "model_module_version": "1.2.0",
      "model_name": "LayoutModel",
      "state": {}
     },
     "338f6f454a8b499abc4c3c725fb2fc13": {
      "model_module": "@jupyter-widgets/base",
      "model_module_version": "1.2.0",
      "model_name": "LayoutModel",
      "state": {}
     },
     "33f55c5c68a94c25b129045e26a70b6b": {
      "model_module": "@jupyter-widgets/controls",
      "model_module_version": "1.5.0",
      "model_name": "IntSliderModel",
      "state": {
       "description": "cx2",
       "layout": "IPY_MODEL_1641f106562f4cd8b181919538a06072",
       "max": 8,
       "min": -8,
       "style": "IPY_MODEL_4e1e9411b34d4c5b8a43605f550ca78f",
       "value": 8
      }
     },
     "344de9006e984744bac31c935f2af416": {
      "model_module": "@jupyter-widgets/controls",
      "model_module_version": "1.5.0",
      "model_name": "ButtonStyleModel",
      "state": {}
     },
     "34b2068461d94d39a67bd221c12e22d7": {
      "model_module": "@jupyter-widgets/base",
      "model_module_version": "1.2.0",
      "model_name": "LayoutModel",
      "state": {}
     },
     "34f897aeff2f4d1ea2e2c93cb5bc2bb7": {
      "model_module": "@jupyter-widgets/controls",
      "model_module_version": "1.5.0",
      "model_name": "IntSliderModel",
      "state": {
       "description": "cx1",
       "layout": "IPY_MODEL_b93074ae7b8c4b8fb1104820d887a9b7",
       "max": 8,
       "min": -8,
       "style": "IPY_MODEL_06329c2218bb4989ad4b55ae605e335e",
       "value": 5
      }
     },
     "357962b4e807437ca4464c6f4cccc6bc": {
      "model_module": "@jupyter-widgets/controls",
      "model_module_version": "1.5.0",
      "model_name": "IntSliderModel",
      "state": {
       "description": "rx1",
       "layout": "IPY_MODEL_4220518d82544ed9b8399432bc43edf6",
       "max": 8,
       "min": 1,
       "style": "IPY_MODEL_edca0704e78e41d8aab298306f3cd037",
       "value": 6
      }
     },
     "36cfc54eef5a4152880f9b999ad60a00": {
      "model_module": "@jupyter-widgets/controls",
      "model_module_version": "1.5.0",
      "model_name": "SliderStyleModel",
      "state": {
       "description_width": ""
      }
     },
     "37b9c3867a7c489e91884beb1f851b4b": {
      "model_module": "@jupyter-widgets/base",
      "model_module_version": "1.2.0",
      "model_name": "LayoutModel",
      "state": {}
     },
     "37ff040d8bcc43ebb5f6a697f36139e9": {
      "model_module": "@jupyter-widgets/controls",
      "model_module_version": "1.5.0",
      "model_name": "SliderStyleModel",
      "state": {
       "description_width": ""
      }
     },
     "3a38f2978a504bbf9aa4a7e422911b22": {
      "model_module": "@jupyter-widgets/controls",
      "model_module_version": "1.5.0",
      "model_name": "SliderStyleModel",
      "state": {
       "description_width": ""
      }
     },
     "3cb115a606ea4e28b9cb5b05e7534df6": {
      "model_module": "@jupyter-widgets/controls",
      "model_module_version": "1.5.0",
      "model_name": "IntSliderModel",
      "state": {
       "description": "cx2",
       "layout": "IPY_MODEL_31f6ce9393af494e9202435019275a3b",
       "max": 8,
       "min": -8,
       "style": "IPY_MODEL_70a286f34e244369b6a21d295722b984",
       "value": 8
      }
     },
     "3d80a4753c184749b5922677f8a78dc9": {
      "model_module": "@jupyter-widgets/controls",
      "model_module_version": "1.5.0",
      "model_name": "IntSliderModel",
      "state": {
       "description": "cx1",
       "layout": "IPY_MODEL_45397424bd6a4adbace35ad395c90038",
       "max": 8,
       "min": -8,
       "style": "IPY_MODEL_77b265cf92d14f3ca2b7b097e6ce576b",
       "value": 5
      }
     },
     "4220518d82544ed9b8399432bc43edf6": {
      "model_module": "@jupyter-widgets/base",
      "model_module_version": "1.2.0",
      "model_name": "LayoutModel",
      "state": {}
     },
     "425ecf3b51074c8c8bff240361cf997c": {
      "model_module": "@jupyter-widgets/controls",
      "model_module_version": "1.5.0",
      "model_name": "ButtonStyleModel",
      "state": {}
     },
     "42e95d747250408abaec52d5833b7944": {
      "model_module": "@jupyter-widgets/controls",
      "model_module_version": "1.5.0",
      "model_name": "SliderStyleModel",
      "state": {
       "description_width": ""
      }
     },
     "440367947f3d414998799f8550767cda": {
      "model_module": "@jupyter-widgets/base",
      "model_module_version": "1.2.0",
      "model_name": "LayoutModel",
      "state": {}
     },
     "4437fca6dea048fe96027b8df39bb72c": {
      "model_module": "@jupyter-widgets/controls",
      "model_module_version": "1.5.0",
      "model_name": "SliderStyleModel",
      "state": {
       "description_width": ""
      }
     },
     "448fef4626cf4ae2b0e50b7fc8ae9fb6": {
      "model_module": "@jupyter-widgets/base",
      "model_module_version": "1.2.0",
      "model_name": "LayoutModel",
      "state": {}
     },
     "45397424bd6a4adbace35ad395c90038": {
      "model_module": "@jupyter-widgets/base",
      "model_module_version": "1.2.0",
      "model_name": "LayoutModel",
      "state": {}
     },
     "4547924fa7ad4e4f8fb40a619c63d8e1": {
      "model_module": "@jupyter-widgets/controls",
      "model_module_version": "1.5.0",
      "model_name": "ButtonStyleModel",
      "state": {}
     },
     "47749d316bd64a579ba69dad9f5bb813": {
      "model_module": "@jupyter-widgets/controls",
      "model_module_version": "1.5.0",
      "model_name": "IntSliderModel",
      "state": {
       "description": "cy1",
       "layout": "IPY_MODEL_7ed4c61265e04a33af82c4ece66b4f84",
       "max": 8,
       "min": -8,
       "style": "IPY_MODEL_55bd3826e1694ff998bba6a43f048e16",
       "value": 3
      }
     },
     "4782c4215a5946deb1cf837090c68e2f": {
      "model_module": "@jupyter-widgets/controls",
      "model_module_version": "1.5.0",
      "model_name": "SliderStyleModel",
      "state": {
       "description_width": ""
      }
     },
     "47d08dad9e94414e80325291f85e0df8": {
      "model_module": "@jupyter-widgets/controls",
      "model_module_version": "1.5.0",
      "model_name": "IntSliderModel",
      "state": {
       "description": "cx1",
       "layout": "IPY_MODEL_50665cbebf994c11bf520c05d1c8d259",
       "max": 8,
       "min": -8,
       "style": "IPY_MODEL_c909c340bb9049958bd33b7d52a202d8",
       "value": 5
      }
     },
     "48579acf94984892992e202cfa8dd66a": {
      "model_module": "@jupyter-widgets/controls",
      "model_module_version": "1.5.0",
      "model_name": "SliderStyleModel",
      "state": {
       "description_width": ""
      }
     },
     "49809686f60941f5adfe292f06ff494f": {
      "model_module": "@jupyter-widgets/controls",
      "model_module_version": "1.5.0",
      "model_name": "ButtonModel",
      "state": {
       "description": "Plot",
       "layout": "IPY_MODEL_e92e6cfedac2439d9c49203f387d024a",
       "style": "IPY_MODEL_e987d25dbe5f49b28d7eb6e215edd76b"
      }
     },
     "49b47d679cf2473aa6b12661b0fa7c1d": {
      "model_module": "@jupyter-widgets/controls",
      "model_module_version": "1.5.0",
      "model_name": "SliderStyleModel",
      "state": {
       "description_width": ""
      }
     },
     "4a182fcbc4f349b6808b5b6882c2f096": {
      "model_module": "@jupyter-widgets/controls",
      "model_module_version": "1.5.0",
      "model_name": "IntSliderModel",
      "state": {
       "description": "cx2",
       "layout": "IPY_MODEL_fd4b74510dda4c8ca8865ef1e687fb37",
       "max": 8,
       "min": -8,
       "style": "IPY_MODEL_e95ecc4b29a949a2a9f8d92e869b1a90",
       "value": 8
      }
     },
     "4a688ef7b5964b07b740ec811b638490": {
      "model_module": "@jupyter-widgets/base",
      "model_module_version": "1.2.0",
      "model_name": "LayoutModel",
      "state": {}
     },
     "4a6d5e8593af4576879357a7669c3c20": {
      "model_module": "@jupyter-widgets/controls",
      "model_module_version": "1.5.0",
      "model_name": "SliderStyleModel",
      "state": {
       "description_width": ""
      }
     },
     "4af604582a8e4dbfaf94e2081736311f": {
      "model_module": "@jupyter-widgets/base",
      "model_module_version": "1.2.0",
      "model_name": "LayoutModel",
      "state": {}
     },
     "4d955d3e272c492d8786453be1bd37be": {
      "model_module": "@jupyter-widgets/controls",
      "model_module_version": "1.5.0",
      "model_name": "IntSliderModel",
      "state": {
       "description": "rx1",
       "layout": "IPY_MODEL_b3624bd6001e4a768f0d7910dedd7dbb",
       "max": 8,
       "min": 1,
       "style": "IPY_MODEL_a46351235b27440ca59af11e4c8372ae",
       "value": 5
      }
     },
     "4d97158c4ba94ef5ac30d98a02cbcfc2": {
      "model_module": "@jupyter-widgets/controls",
      "model_module_version": "1.5.0",
      "model_name": "IntSliderModel",
      "state": {
       "description": "cy1",
       "layout": "IPY_MODEL_759c7f4cc105405cb4aabea66ad5ea3a",
       "max": 8,
       "min": -8,
       "style": "IPY_MODEL_cad3c4b8c08e451991fe6e06f7aa9440",
       "value": 3
      }
     },
     "4da378e67578417b893dd849151263b3": {
      "model_module": "@jupyter-widgets/controls",
      "model_module_version": "1.5.0",
      "model_name": "IntSliderModel",
      "state": {
       "description": "rx2",
       "layout": "IPY_MODEL_d257435e89fd44bebc5888ec1b7e8345",
       "max": 8,
       "min": 1,
       "style": "IPY_MODEL_a936285b23c24fe6944f43e3e1bafede",
       "value": 5
      }
     },
     "4e1e9411b34d4c5b8a43605f550ca78f": {
      "model_module": "@jupyter-widgets/controls",
      "model_module_version": "1.5.0",
      "model_name": "SliderStyleModel",
      "state": {
       "description_width": ""
      }
     },
     "4e710abb2e3b45a6b8d8a81106e4ba0a": {
      "model_module": "@jupyter-widgets/base",
      "model_module_version": "1.2.0",
      "model_name": "LayoutModel",
      "state": {}
     },
     "4faff934010242d5ba362d214cfb2ce1": {
      "model_module": "@jupyter-widgets/controls",
      "model_module_version": "1.5.0",
      "model_name": "IntSliderModel",
      "state": {
       "description": "rx1",
       "layout": "IPY_MODEL_2dd2107609ea4730a088b26cf29cd6e4",
       "max": 8,
       "min": 1,
       "style": "IPY_MODEL_6cba55ce294742c19ccfac0f6baf45a9",
       "value": 5
      }
     },
     "50665cbebf994c11bf520c05d1c8d259": {
      "model_module": "@jupyter-widgets/base",
      "model_module_version": "1.2.0",
      "model_name": "LayoutModel",
      "state": {}
     },
     "506fe8657614447bb6679e957eb4acb9": {
      "model_module": "@jupyter-widgets/controls",
      "model_module_version": "1.5.0",
      "model_name": "SliderStyleModel",
      "state": {
       "description_width": ""
      }
     },
     "51050de91bfa4087a79de22e3afa17c3": {
      "model_module": "@jupyter-widgets/base",
      "model_module_version": "1.2.0",
      "model_name": "LayoutModel",
      "state": {}
     },
     "51d132ba565649aa9c34e5f18bf35a58": {
      "model_module": "@jupyter-widgets/controls",
      "model_module_version": "1.5.0",
      "model_name": "ButtonModel",
      "state": {
       "description": "Plot",
       "layout": "IPY_MODEL_73ac2acc0bee4b339ec0faeb436e65c9",
       "style": "IPY_MODEL_6533968ff56c4b02a9a1cd65f27705b8"
      }
     },
     "51f5e927e34641ecadf7e71add5befed": {
      "model_module": "@jupyter-widgets/controls",
      "model_module_version": "1.5.0",
      "model_name": "ButtonStyleModel",
      "state": {}
     },
     "524f7093fd7d4b54a1ee5fdc92319381": {
      "model_module": "@jupyter-widgets/controls",
      "model_module_version": "1.5.0",
      "model_name": "ButtonModel",
      "state": {
       "description": "Plot",
       "layout": "IPY_MODEL_f89aec457fc6467d835f8e7a44c30197",
       "style": "IPY_MODEL_7e32096064dc4cb480a5922602fcae7e"
      }
     },
     "53273325976d4436b1b660843684018b": {
      "model_module": "@jupyter-widgets/controls",
      "model_module_version": "1.5.0",
      "model_name": "ButtonStyleModel",
      "state": {}
     },
     "537ac5179d5e41298b981e9b0d326f54": {
      "model_module": "@jupyter-widgets/controls",
      "model_module_version": "1.5.0",
      "model_name": "SliderStyleModel",
      "state": {
       "description_width": ""
      }
     },
     "53a53f27b2334d06903fbfc10a477fd8": {
      "model_module": "@jupyter-widgets/controls",
      "model_module_version": "1.5.0",
      "model_name": "IntSliderModel",
      "state": {
       "description": "cx1",
       "layout": "IPY_MODEL_c83ad066ae934a8eb03933b4bb0ca0bf",
       "max": 8,
       "min": -8,
       "style": "IPY_MODEL_6f114edb24214f118abbad1e996c7634",
       "value": 5
      }
     },
     "53d9f9fa727c4fc1aa0f17daa1ce4817": {
      "model_module": "@jupyter-widgets/base",
      "model_module_version": "1.2.0",
      "model_name": "LayoutModel",
      "state": {}
     },
     "543a5eb26e904d48bbd0031001ed6aa1": {
      "model_module": "@jupyter-widgets/controls",
      "model_module_version": "1.5.0",
      "model_name": "SliderStyleModel",
      "state": {
       "description_width": ""
      }
     },
     "55bd3826e1694ff998bba6a43f048e16": {
      "model_module": "@jupyter-widgets/controls",
      "model_module_version": "1.5.0",
      "model_name": "SliderStyleModel",
      "state": {
       "description_width": ""
      }
     },
     "58c47c1954944395821a5c5d330ec097": {
      "model_module": "@jupyter-widgets/base",
      "model_module_version": "1.2.0",
      "model_name": "LayoutModel",
      "state": {}
     },
     "5a085a885a0a4dd4aa448d9024d3dcca": {
      "model_module": "@jupyter-widgets/base",
      "model_module_version": "1.2.0",
      "model_name": "LayoutModel",
      "state": {}
     },
     "5a220f8271c246d58a2e51c6b4ddc4b8": {
      "model_module": "@jupyter-widgets/controls",
      "model_module_version": "1.5.0",
      "model_name": "SliderStyleModel",
      "state": {
       "description_width": ""
      }
     },
     "5a3f9c3ed1d146279887a7bb778f5e94": {
      "model_module": "@jupyter-widgets/base",
      "model_module_version": "1.2.0",
      "model_name": "LayoutModel",
      "state": {}
     },
     "5a4102b51bbf492393537dfe9f56b5de": {
      "model_module": "@jupyter-widgets/controls",
      "model_module_version": "1.5.0",
      "model_name": "IntSliderModel",
      "state": {
       "description": "cy2",
       "layout": "IPY_MODEL_aa57254412c74f2f8687000d982dd89b",
       "max": 8,
       "min": -8,
       "style": "IPY_MODEL_cfecf07f7c1a4f1aad420906792a020a",
       "value": 8
      }
     },
     "5aaafa8840034d9a828104f629832eef": {
      "model_module": "@jupyter-widgets/controls",
      "model_module_version": "1.5.0",
      "model_name": "SliderStyleModel",
      "state": {
       "description_width": ""
      }
     },
     "5b2e58c9f8df42fa9109092fce09c164": {
      "model_module": "@jupyter-widgets/base",
      "model_module_version": "1.2.0",
      "model_name": "LayoutModel",
      "state": {}
     },
     "5b8cf43d528b45d3abfdb6193654dd37": {
      "model_module": "@jupyter-widgets/controls",
      "model_module_version": "1.5.0",
      "model_name": "IntSliderModel",
      "state": {
       "description": "rx1",
       "layout": "IPY_MODEL_1a2ee0c5dfc64063a1c0bfdd738c4d28",
       "max": 8,
       "min": 1,
       "style": "IPY_MODEL_733f1535031e44b19bf7b9b0028397f2",
       "value": 5
      }
     },
     "5df87f6f28324dc49946f3596fe81f6b": {
      "model_module": "@jupyter-widgets/controls",
      "model_module_version": "1.5.0",
      "model_name": "SliderStyleModel",
      "state": {
       "description_width": ""
      }
     },
     "607b77d077c3408392d0486b78918030": {
      "model_module": "@jupyter-widgets/controls",
      "model_module_version": "1.5.0",
      "model_name": "SliderStyleModel",
      "state": {
       "description_width": ""
      }
     },
     "61473330591b4b82812a18416bc04064": {
      "model_module": "@jupyter-widgets/controls",
      "model_module_version": "1.5.0",
      "model_name": "SliderStyleModel",
      "state": {
       "description_width": ""
      }
     },
     "626cab9440bd4566a52f7ab5135a03e0": {
      "model_module": "@jupyter-widgets/base",
      "model_module_version": "1.2.0",
      "model_name": "LayoutModel",
      "state": {}
     },
     "62f07065f5834d5dad93e3ba89787c8c": {
      "model_module": "@jupyter-widgets/base",
      "model_module_version": "1.2.0",
      "model_name": "LayoutModel",
      "state": {}
     },
     "6533968ff56c4b02a9a1cd65f27705b8": {
      "model_module": "@jupyter-widgets/controls",
      "model_module_version": "1.5.0",
      "model_name": "ButtonStyleModel",
      "state": {}
     },
     "6595c377d9534e788cdf6cfa48754d63": {
      "model_module": "@jupyter-widgets/controls",
      "model_module_version": "1.5.0",
      "model_name": "SliderStyleModel",
      "state": {
       "description_width": ""
      }
     },
     "669538d794424180940e6c1f90aa9c5e": {
      "model_module": "@jupyter-widgets/base",
      "model_module_version": "1.2.0",
      "model_name": "LayoutModel",
      "state": {}
     },
     "66b80d3d8c394f4ca6fce94105cea242": {
      "model_module": "@jupyter-widgets/controls",
      "model_module_version": "1.5.0",
      "model_name": "ButtonModel",
      "state": {
       "description": "Plot",
       "layout": "IPY_MODEL_805790f51c194cf98e6e72a696fe7dc5",
       "style": "IPY_MODEL_ea1f159aa62643b3815757a9100f8c75"
      }
     },
     "688e4ffbf9854f4db2ce81483e065c80": {
      "model_module": "@jupyter-widgets/base",
      "model_module_version": "1.2.0",
      "model_name": "LayoutModel",
      "state": {}
     },
     "68f9233081384a2a8bddf743bb9b8b86": {
      "model_module": "@jupyter-widgets/base",
      "model_module_version": "1.2.0",
      "model_name": "LayoutModel",
      "state": {}
     },
     "68fbecf9f6b64bfeadecf0bd54461ab6": {
      "model_module": "@jupyter-widgets/controls",
      "model_module_version": "1.5.0",
      "model_name": "IntSliderModel",
      "state": {
       "description": "cx2",
       "layout": "IPY_MODEL_cee99698127e453289c6819a0f4306ee",
       "max": 8,
       "min": -8,
       "style": "IPY_MODEL_84d258be2e8b465098943ea2c1deb8e5",
       "value": 8
      }
     },
     "69c7794c6e3349d3a7f0f971e6be2dd5": {
      "model_module": "@jupyter-widgets/base",
      "model_module_version": "1.2.0",
      "model_name": "LayoutModel",
      "state": {}
     },
     "69d39dc6a0894294899aa41d4476e269": {
      "model_module": "@jupyter-widgets/controls",
      "model_module_version": "1.5.0",
      "model_name": "IntSliderModel",
      "state": {
       "description": "rx1",
       "layout": "IPY_MODEL_b59649049d6248798139efcce74a3bd5",
       "max": 8,
       "min": 1,
       "style": "IPY_MODEL_6c49853e2aad44ed905de780611a67b7",
       "value": 5
      }
     },
     "6a4baff961774323b8a17158d3388836": {
      "model_module": "@jupyter-widgets/base",
      "model_module_version": "1.2.0",
      "model_name": "LayoutModel",
      "state": {}
     },
     "6aae516bd12248a09dc690e5be7aa2be": {
      "model_module": "@jupyter-widgets/controls",
      "model_module_version": "1.5.0",
      "model_name": "SliderStyleModel",
      "state": {
       "description_width": ""
      }
     },
     "6ada1da25c2e4a2e9c9595ac2e6267ad": {
      "model_module": "@jupyter-widgets/base",
      "model_module_version": "1.2.0",
      "model_name": "LayoutModel",
      "state": {}
     },
     "6bb5e3c338dc4d219b5ca9b338a94a34": {
      "model_module": "@jupyter-widgets/controls",
      "model_module_version": "1.5.0",
      "model_name": "SliderStyleModel",
      "state": {
       "description_width": ""
      }
     },
     "6bf5d06d41574cfbbc3ad53dcb8722d0": {
      "model_module": "@jupyter-widgets/base",
      "model_module_version": "1.2.0",
      "model_name": "LayoutModel",
      "state": {}
     },
     "6c49853e2aad44ed905de780611a67b7": {
      "model_module": "@jupyter-widgets/controls",
      "model_module_version": "1.5.0",
      "model_name": "SliderStyleModel",
      "state": {
       "description_width": ""
      }
     },
     "6cb3a031343e41da824a91a93390293a": {
      "model_module": "@jupyter-widgets/controls",
      "model_module_version": "1.5.0",
      "model_name": "SliderStyleModel",
      "state": {
       "description_width": ""
      }
     },
     "6cba55ce294742c19ccfac0f6baf45a9": {
      "model_module": "@jupyter-widgets/controls",
      "model_module_version": "1.5.0",
      "model_name": "SliderStyleModel",
      "state": {
       "description_width": ""
      }
     },
     "6ee958655df94405a454895a4a0e0949": {
      "model_module": "@jupyter-widgets/controls",
      "model_module_version": "1.5.0",
      "model_name": "SliderStyleModel",
      "state": {
       "description_width": ""
      }
     },
     "6f114edb24214f118abbad1e996c7634": {
      "model_module": "@jupyter-widgets/controls",
      "model_module_version": "1.5.0",
      "model_name": "SliderStyleModel",
      "state": {
       "description_width": ""
      }
     },
     "6f65a6f2bff74f50a6e18f1179559488": {
      "model_module": "@jupyter-widgets/controls",
      "model_module_version": "1.5.0",
      "model_name": "IntSliderModel",
      "state": {
       "description": "rx2",
       "layout": "IPY_MODEL_ead7fed0003d41fb9fa07be07d1400a7",
       "max": 8,
       "min": 1,
       "style": "IPY_MODEL_2acda1a7b4e44c7c80ffca3eb9b1d3bd",
       "value": 5
      }
     },
     "70a286f34e244369b6a21d295722b984": {
      "model_module": "@jupyter-widgets/controls",
      "model_module_version": "1.5.0",
      "model_name": "SliderStyleModel",
      "state": {
       "description_width": ""
      }
     },
     "71515903d89c4fdf926733c4736199b5": {
      "model_module": "@jupyter-widgets/controls",
      "model_module_version": "1.5.0",
      "model_name": "IntSliderModel",
      "state": {
       "description": "cy1",
       "layout": "IPY_MODEL_ea0888b766b94b69a505537c1f965b50",
       "max": 8,
       "min": -8,
       "style": "IPY_MODEL_d597e2fc0d9e448f8c8b5d176034d9a3",
       "value": 3
      }
     },
     "721be5894bf54d97b9a7c0d6c4b2d0a3": {
      "model_module": "@jupyter-widgets/controls",
      "model_module_version": "1.5.0",
      "model_name": "IntSliderModel",
      "state": {
       "description": "cy1",
       "layout": "IPY_MODEL_9afcab64c21c47cb97a045285dad0493",
       "max": 8,
       "min": -8,
       "style": "IPY_MODEL_df01340909c744b4b8953aa23ec1c45e",
       "value": 3
      }
     },
     "726892af1bd94350b7c515f1c4c9aa8b": {
      "model_module": "@jupyter-widgets/controls",
      "model_module_version": "1.5.0",
      "model_name": "SliderStyleModel",
      "state": {
       "description_width": ""
      }
     },
     "733f1535031e44b19bf7b9b0028397f2": {
      "model_module": "@jupyter-widgets/controls",
      "model_module_version": "1.5.0",
      "model_name": "SliderStyleModel",
      "state": {
       "description_width": ""
      }
     },
     "73ac2acc0bee4b339ec0faeb436e65c9": {
      "model_module": "@jupyter-widgets/base",
      "model_module_version": "1.2.0",
      "model_name": "LayoutModel",
      "state": {}
     },
     "74238048900341bf94f2fa3303d97907": {
      "model_module": "@jupyter-widgets/base",
      "model_module_version": "1.2.0",
      "model_name": "LayoutModel",
      "state": {}
     },
     "758420793fcd4890b423c15c5156cc9e": {
      "model_module": "@jupyter-widgets/controls",
      "model_module_version": "1.5.0",
      "model_name": "IntSliderModel",
      "state": {
       "description": "cy1",
       "layout": "IPY_MODEL_a628965e71a74414b14969397dc877f9",
       "max": 8,
       "min": -8,
       "style": "IPY_MODEL_a81b434c244e46beb408abb73c66c954",
       "value": 3
      }
     },
     "759c7f4cc105405cb4aabea66ad5ea3a": {
      "model_module": "@jupyter-widgets/base",
      "model_module_version": "1.2.0",
      "model_name": "LayoutModel",
      "state": {}
     },
     "75b8beb527b24a0ca8e5aa4293062fb1": {
      "model_module": "@jupyter-widgets/controls",
      "model_module_version": "1.5.0",
      "model_name": "IntSliderModel",
      "state": {
       "description": "cy2",
       "layout": "IPY_MODEL_a500247772834fe386702e24abeefec1",
       "max": 8,
       "min": -8,
       "style": "IPY_MODEL_7fcaef7aad1b4147aabd34f3e94d8a27",
       "value": 8
      }
     },
     "75b9d4e8415349e18139c19adb75d277": {
      "model_module": "@jupyter-widgets/controls",
      "model_module_version": "1.5.0",
      "model_name": "ButtonStyleModel",
      "state": {}
     },
     "77b265cf92d14f3ca2b7b097e6ce576b": {
      "model_module": "@jupyter-widgets/controls",
      "model_module_version": "1.5.0",
      "model_name": "SliderStyleModel",
      "state": {
       "description_width": ""
      }
     },
     "7810874fc7db4d81bb060219a69aa035": {
      "model_module": "@jupyter-widgets/controls",
      "model_module_version": "1.5.0",
      "model_name": "IntSliderModel",
      "state": {
       "description": "rx2",
       "layout": "IPY_MODEL_0605f5e83c0b4ba6b0c437ec5cb534c3",
       "max": 8,
       "min": 1,
       "style": "IPY_MODEL_d9f21270b6e94ef1b47d5baf3377e085",
       "value": 5
      }
     },
     "781e52b6031249a9828ae79dd28ec1df": {
      "model_module": "@jupyter-widgets/controls",
      "model_module_version": "1.5.0",
      "model_name": "ButtonModel",
      "state": {
       "description": "Plot",
       "layout": "IPY_MODEL_5b2e58c9f8df42fa9109092fce09c164",
       "style": "IPY_MODEL_53273325976d4436b1b660843684018b"
      }
     },
     "7868854ddd1f4faf9e5830ce1ce93f05": {
      "model_module": "@jupyter-widgets/controls",
      "model_module_version": "1.5.0",
      "model_name": "ButtonStyleModel",
      "state": {}
     },
     "7897e86a2c0b480aadd7059bf42efa3a": {
      "model_module": "@jupyter-widgets/controls",
      "model_module_version": "1.5.0",
      "model_name": "IntSliderModel",
      "state": {
       "description": "rx2",
       "layout": "IPY_MODEL_5a085a885a0a4dd4aa448d9024d3dcca",
       "max": 8,
       "min": 1,
       "style": "IPY_MODEL_c884b0ef734445f8bd656ff2cb22a905",
       "value": 5
      }
     },
     "79359e188093454db038984eeff0df08": {
      "model_module": "@jupyter-widgets/controls",
      "model_module_version": "1.5.0",
      "model_name": "SliderStyleModel",
      "state": {
       "description_width": ""
      }
     },
     "7a73013608b04e3c8f16317a034c7d8d": {
      "model_module": "@jupyter-widgets/controls",
      "model_module_version": "1.5.0",
      "model_name": "IntSliderModel",
      "state": {
       "description": "cx1",
       "layout": "IPY_MODEL_2f22b80df17244d0bf54db7648fe5622",
       "max": 8,
       "min": -8,
       "style": "IPY_MODEL_537ac5179d5e41298b981e9b0d326f54",
       "value": 5
      }
     },
     "7b47e3466ad543b397e33009042b958a": {
      "model_module": "@jupyter-widgets/base",
      "model_module_version": "1.2.0",
      "model_name": "LayoutModel",
      "state": {}
     },
     "7bf1593530be4d089ad00ce8d3cb55e4": {
      "model_module": "@jupyter-widgets/controls",
      "model_module_version": "1.5.0",
      "model_name": "SliderStyleModel",
      "state": {
       "description_width": ""
      }
     },
     "7d7813097a214661903e58d3d86671bb": {
      "model_module": "@jupyter-widgets/controls",
      "model_module_version": "1.5.0",
      "model_name": "IntSliderModel",
      "state": {
       "description": "rx1",
       "layout": "IPY_MODEL_1284587e295e4830a6aec4bfa559cc9a",
       "max": 8,
       "min": 1,
       "style": "IPY_MODEL_6cb3a031343e41da824a91a93390293a",
       "value": 5
      }
     },
     "7debd68ee03e4d22a194a3c2cd14e44b": {
      "model_module": "@jupyter-widgets/controls",
      "model_module_version": "1.5.0",
      "model_name": "IntSliderModel",
      "state": {
       "description": "rx2",
       "layout": "IPY_MODEL_810e569ccec34461a12658845d5b5718",
       "max": 8,
       "min": 1,
       "style": "IPY_MODEL_48579acf94984892992e202cfa8dd66a",
       "value": 5
      }
     },
     "7e32096064dc4cb480a5922602fcae7e": {
      "model_module": "@jupyter-widgets/controls",
      "model_module_version": "1.5.0",
      "model_name": "ButtonStyleModel",
      "state": {}
     },
     "7eaadff53b9742b7b6eafd498dc407d7": {
      "model_module": "@jupyter-widgets/controls",
      "model_module_version": "1.5.0",
      "model_name": "IntSliderModel",
      "state": {
       "description": "cy2",
       "layout": "IPY_MODEL_34b2068461d94d39a67bd221c12e22d7",
       "max": 8,
       "min": -8,
       "style": "IPY_MODEL_2b20e194801947359a12a4dae8be4d09",
       "value": 8
      }
     },
     "7ed4c61265e04a33af82c4ece66b4f84": {
      "model_module": "@jupyter-widgets/base",
      "model_module_version": "1.2.0",
      "model_name": "LayoutModel",
      "state": {}
     },
     "7f4d410ff2ef4b3b9f17d663a68f469e": {
      "model_module": "@jupyter-widgets/base",
      "model_module_version": "1.2.0",
      "model_name": "LayoutModel",
      "state": {}
     },
     "7f7c7fd8cc1f4da4811678fa653e45ae": {
      "model_module": "@jupyter-widgets/controls",
      "model_module_version": "1.5.0",
      "model_name": "ButtonStyleModel",
      "state": {}
     },
     "7fcaef7aad1b4147aabd34f3e94d8a27": {
      "model_module": "@jupyter-widgets/controls",
      "model_module_version": "1.5.0",
      "model_name": "SliderStyleModel",
      "state": {
       "description_width": ""
      }
     },
     "805790f51c194cf98e6e72a696fe7dc5": {
      "model_module": "@jupyter-widgets/base",
      "model_module_version": "1.2.0",
      "model_name": "LayoutModel",
      "state": {}
     },
     "810e569ccec34461a12658845d5b5718": {
      "model_module": "@jupyter-widgets/base",
      "model_module_version": "1.2.0",
      "model_name": "LayoutModel",
      "state": {}
     },
     "82357f7d764c497aa22d767315633527": {
      "model_module": "@jupyter-widgets/controls",
      "model_module_version": "1.5.0",
      "model_name": "IntSliderModel",
      "state": {
       "description": "cx1",
       "layout": "IPY_MODEL_d753b0872f0645c88c6fba192572b9c4",
       "max": 8,
       "min": -8,
       "style": "IPY_MODEL_3a38f2978a504bbf9aa4a7e422911b22",
       "value": 5
      }
     },
     "8252c4ee94034087bc53506554bb1950": {
      "model_module": "@jupyter-widgets/controls",
      "model_module_version": "1.5.0",
      "model_name": "IntSliderModel",
      "state": {
       "description": "cx2",
       "layout": "IPY_MODEL_f03f4455af7d4e28bc933a640c15c774",
       "max": 8,
       "min": -8,
       "style": "IPY_MODEL_506fe8657614447bb6679e957eb4acb9",
       "value": 8
      }
     },
     "82d08a257afd4a0e80d1d65bc08c23f0": {
      "model_module": "@jupyter-widgets/controls",
      "model_module_version": "1.5.0",
      "model_name": "SliderStyleModel",
      "state": {
       "description_width": ""
      }
     },
     "82eee5982aa140d19e7b03847f79e3db": {
      "model_module": "@jupyter-widgets/base",
      "model_module_version": "1.2.0",
      "model_name": "LayoutModel",
      "state": {}
     },
     "8432271e116748b4bf5220c80f74de13": {
      "model_module": "@jupyter-widgets/controls",
      "model_module_version": "1.5.0",
      "model_name": "IntSliderModel",
      "state": {
       "description": "rx2",
       "layout": "IPY_MODEL_669538d794424180940e6c1f90aa9c5e",
       "max": 8,
       "min": 1,
       "style": "IPY_MODEL_4782c4215a5946deb1cf837090c68e2f",
       "value": 5
      }
     },
     "84d258be2e8b465098943ea2c1deb8e5": {
      "model_module": "@jupyter-widgets/controls",
      "model_module_version": "1.5.0",
      "model_name": "SliderStyleModel",
      "state": {
       "description_width": ""
      }
     },
     "86563cb8880746c59fdd8441f15acec3": {
      "model_module": "@jupyter-widgets/controls",
      "model_module_version": "1.5.0",
      "model_name": "SliderStyleModel",
      "state": {
       "description_width": ""
      }
     },
     "871287ec8bf84cbea537f73069ca5735": {
      "model_module": "@jupyter-widgets/controls",
      "model_module_version": "1.5.0",
      "model_name": "SliderStyleModel",
      "state": {
       "description_width": ""
      }
     },
     "871fbbfe561b4a25accb7bf32c3a1fef": {
      "model_module": "@jupyter-widgets/base",
      "model_module_version": "1.2.0",
      "model_name": "LayoutModel",
      "state": {}
     },
     "87acc16f82164edb8db176e79f510a3e": {
      "model_module": "@jupyter-widgets/controls",
      "model_module_version": "1.5.0",
      "model_name": "IntSliderModel",
      "state": {
       "description": "cx2",
       "layout": "IPY_MODEL_ae80d1c423004cb3b1b59b7abf31a39d",
       "max": 8,
       "min": -8,
       "style": "IPY_MODEL_00ee055eb39845a5a2d665fca9bbe725",
       "value": 8
      }
     },
     "87c906b77ab94d70bd7e3c18acb579d3": {
      "model_module": "@jupyter-widgets/controls",
      "model_module_version": "1.5.0",
      "model_name": "IntSliderModel",
      "state": {
       "description": "rx1",
       "layout": "IPY_MODEL_68f9233081384a2a8bddf743bb9b8b86",
       "max": 8,
       "min": 1,
       "style": "IPY_MODEL_b009909add924ee1939fbaddf0f026d0",
       "value": 5
      }
     },
     "88ed01ebd68e4ce2849d24a2b1e6495c": {
      "model_module": "@jupyter-widgets/controls",
      "model_module_version": "1.5.0",
      "model_name": "IntSliderModel",
      "state": {
       "description": "cy2",
       "layout": "IPY_MODEL_bc0aafe18ab64f519cca8d5378fcf0e6",
       "max": 8,
       "min": -8,
       "style": "IPY_MODEL_6aae516bd12248a09dc690e5be7aa2be",
       "value": -1
      }
     },
     "892f77acc1754928a65d26b07a20087b": {
      "model_module": "@jupyter-widgets/controls",
      "model_module_version": "1.5.0",
      "model_name": "SliderStyleModel",
      "state": {
       "description_width": ""
      }
     },
     "8adba5666d254043a43127dfc1ce9f0a": {
      "model_module": "@jupyter-widgets/base",
      "model_module_version": "1.2.0",
      "model_name": "LayoutModel",
      "state": {}
     },
     "8ccbce15228c4079a6c3132465032670": {
      "model_module": "@jupyter-widgets/controls",
      "model_module_version": "1.5.0",
      "model_name": "ButtonModel",
      "state": {
       "description": "Plot",
       "layout": "IPY_MODEL_5a3f9c3ed1d146279887a7bb778f5e94",
       "style": "IPY_MODEL_1744924bfeea4f5a9213c6582e640168"
      }
     },
     "8d88c11238b84dec88936a13ab0aacd3": {
      "model_module": "@jupyter-widgets/base",
      "model_module_version": "1.2.0",
      "model_name": "LayoutModel",
      "state": {}
     },
     "8dba78350ec047b1b49f6d76b5556afb": {
      "model_module": "@jupyter-widgets/controls",
      "model_module_version": "1.5.0",
      "model_name": "SliderStyleModel",
      "state": {
       "description_width": ""
      }
     },
     "8dfb29fd2b7846e7857feab761457192": {
      "model_module": "@jupyter-widgets/base",
      "model_module_version": "1.2.0",
      "model_name": "LayoutModel",
      "state": {}
     },
     "8e479472ddf14147b778537416411c46": {
      "model_module": "@jupyter-widgets/controls",
      "model_module_version": "1.5.0",
      "model_name": "IntSliderModel",
      "state": {
       "description": "cx1",
       "layout": "IPY_MODEL_b841225e68da4c18b9b58f895502dbe7",
       "max": 8,
       "min": -8,
       "style": "IPY_MODEL_0735cdec64cc432eb0fd9bd3290b4165",
       "value": 5
      }
     },
     "8eb2b797d896415aa1d5653bd78d2a89": {
      "model_module": "@jupyter-widgets/controls",
      "model_module_version": "1.5.0",
      "model_name": "ButtonModel",
      "state": {
       "description": "Plot",
       "layout": "IPY_MODEL_ca85b33f933044cab9995a2ea6373480",
       "style": "IPY_MODEL_7f7c7fd8cc1f4da4811678fa653e45ae"
      }
     },
     "8fec9ae87a3f4db2932a3d58b45ea34f": {
      "model_module": "@jupyter-widgets/controls",
      "model_module_version": "1.5.0",
      "model_name": "SliderStyleModel",
      "state": {
       "description_width": ""
      }
     },
     "8ff771b7354a4562a3ca3762ac980f71": {
      "model_module": "@jupyter-widgets/controls",
      "model_module_version": "1.5.0",
      "model_name": "SliderStyleModel",
      "state": {
       "description_width": ""
      }
     },
     "90bdeb056ec44283bde17e371f8d84db": {
      "model_module": "@jupyter-widgets/controls",
      "model_module_version": "1.5.0",
      "model_name": "SliderStyleModel",
      "state": {
       "description_width": ""
      }
     },
     "914dbd1ecfa34551ba798e91eaacb95b": {
      "model_module": "@jupyter-widgets/controls",
      "model_module_version": "1.5.0",
      "model_name": "ButtonModel",
      "state": {
       "description": "Plot",
       "layout": "IPY_MODEL_6a4baff961774323b8a17158d3388836",
       "style": "IPY_MODEL_51f5e927e34641ecadf7e71add5befed"
      }
     },
     "9266f7a6e68a4f368969fb379664d9b2": {
      "model_module": "@jupyter-widgets/base",
      "model_module_version": "1.2.0",
      "model_name": "LayoutModel",
      "state": {}
     },
     "92e2e7d6fc4a43c9ad802133e994e31a": {
      "model_module": "@jupyter-widgets/base",
      "model_module_version": "1.2.0",
      "model_name": "LayoutModel",
      "state": {}
     },
     "93d3f4d1a7e54ac1ac4ac2d3751bf4c6": {
      "model_module": "@jupyter-widgets/controls",
      "model_module_version": "1.5.0",
      "model_name": "SliderStyleModel",
      "state": {
       "description_width": ""
      }
     },
     "94192c2e3a2c460ca94c964cac798844": {
      "model_module": "@jupyter-widgets/controls",
      "model_module_version": "1.5.0",
      "model_name": "IntSliderModel",
      "state": {
       "description": "rx2",
       "layout": "IPY_MODEL_988741efc4f7476cbf4b74b69be1c7e8",
       "max": 8,
       "min": 1,
       "style": "IPY_MODEL_607b77d077c3408392d0486b78918030",
       "value": 5
      }
     },
     "947127d9616643cc8fd221627258d761": {
      "model_module": "@jupyter-widgets/controls",
      "model_module_version": "1.5.0",
      "model_name": "IntSliderModel",
      "state": {
       "description": "rx2",
       "layout": "IPY_MODEL_f538d472c5b246f2bf11e3164cad1962",
       "max": 8,
       "min": 1,
       "style": "IPY_MODEL_1b1eab538612443ab93a228f6943c4ff",
       "value": 5
      }
     },
     "94a3dc9c4f7c4717844234714e110304": {
      "model_module": "@jupyter-widgets/controls",
      "model_module_version": "1.5.0",
      "model_name": "SliderStyleModel",
      "state": {
       "description_width": ""
      }
     },
     "95ab63657ab3477c86b385f0e465ef66": {
      "model_module": "@jupyter-widgets/controls",
      "model_module_version": "1.5.0",
      "model_name": "ButtonModel",
      "state": {
       "description": "Plot",
       "layout": "IPY_MODEL_a2fc79d620cf470eb7896f9d60c1284f",
       "style": "IPY_MODEL_425ecf3b51074c8c8bff240361cf997c"
      }
     },
     "979b577e7b4f490889903dcc462495f2": {
      "model_module": "@jupyter-widgets/controls",
      "model_module_version": "1.5.0",
      "model_name": "IntSliderModel",
      "state": {
       "description": "cy2",
       "layout": "IPY_MODEL_274d152bb8384137a3d020efd3f704af",
       "max": 8,
       "min": -8,
       "style": "IPY_MODEL_86563cb8880746c59fdd8441f15acec3",
       "value": 8
      }
     },
     "97a9eee076ea4dc18128e093a86b54d4": {
      "model_module": "@jupyter-widgets/base",
      "model_module_version": "1.2.0",
      "model_name": "LayoutModel",
      "state": {}
     },
     "988741efc4f7476cbf4b74b69be1c7e8": {
      "model_module": "@jupyter-widgets/base",
      "model_module_version": "1.2.0",
      "model_name": "LayoutModel",
      "state": {}
     },
     "9afcab64c21c47cb97a045285dad0493": {
      "model_module": "@jupyter-widgets/base",
      "model_module_version": "1.2.0",
      "model_name": "LayoutModel",
      "state": {}
     },
     "9b02e7d2d71545ab9990820084085455": {
      "model_module": "@jupyter-widgets/base",
      "model_module_version": "1.2.0",
      "model_name": "LayoutModel",
      "state": {}
     },
     "9c1fd49932194b0281708137b19642ba": {
      "model_module": "@jupyter-widgets/base",
      "model_module_version": "1.2.0",
      "model_name": "LayoutModel",
      "state": {}
     },
     "9f6a4ba2991d45e0be4776f39febc9fb": {
      "model_module": "@jupyter-widgets/base",
      "model_module_version": "1.2.0",
      "model_name": "LayoutModel",
      "state": {}
     },
     "a169dbb0175b4a7e8fed9774225c5467": {
      "model_module": "@jupyter-widgets/controls",
      "model_module_version": "1.5.0",
      "model_name": "IntSliderModel",
      "state": {
       "description": "cx1",
       "layout": "IPY_MODEL_1484dc05db0e4627a5a3fa6cd07c5b2c",
       "max": 8,
       "min": -8,
       "style": "IPY_MODEL_fe40d3f976174a08a7353b9cc34c6da4",
       "value": 5
      }
     },
     "a192f696fb7d42f894b6935aa947e4ad": {
      "model_module": "@jupyter-widgets/base",
      "model_module_version": "1.2.0",
      "model_name": "LayoutModel",
      "state": {}
     },
     "a1e0373e7a104be4be1c52aef7119a8a": {
      "model_module": "@jupyter-widgets/controls",
      "model_module_version": "1.5.0",
      "model_name": "IntSliderModel",
      "state": {
       "description": "cx2",
       "layout": "IPY_MODEL_2006ca1f29f3403ba603de270e67402b",
       "max": 8,
       "min": -8,
       "style": "IPY_MODEL_93d3f4d1a7e54ac1ac4ac2d3751bf4c6",
       "value": 8
      }
     },
     "a2fc79d620cf470eb7896f9d60c1284f": {
      "model_module": "@jupyter-widgets/base",
      "model_module_version": "1.2.0",
      "model_name": "LayoutModel",
      "state": {}
     },
     "a46351235b27440ca59af11e4c8372ae": {
      "model_module": "@jupyter-widgets/controls",
      "model_module_version": "1.5.0",
      "model_name": "SliderStyleModel",
      "state": {
       "description_width": ""
      }
     },
     "a500247772834fe386702e24abeefec1": {
      "model_module": "@jupyter-widgets/base",
      "model_module_version": "1.2.0",
      "model_name": "LayoutModel",
      "state": {}
     },
     "a628965e71a74414b14969397dc877f9": {
      "model_module": "@jupyter-widgets/base",
      "model_module_version": "1.2.0",
      "model_name": "LayoutModel",
      "state": {}
     },
     "a81b434c244e46beb408abb73c66c954": {
      "model_module": "@jupyter-widgets/controls",
      "model_module_version": "1.5.0",
      "model_name": "SliderStyleModel",
      "state": {
       "description_width": ""
      }
     },
     "a8d9f43c7357433d98cf2539e4dc6a16": {
      "model_module": "@jupyter-widgets/base",
      "model_module_version": "1.2.0",
      "model_name": "LayoutModel",
      "state": {}
     },
     "a936285b23c24fe6944f43e3e1bafede": {
      "model_module": "@jupyter-widgets/controls",
      "model_module_version": "1.5.0",
      "model_name": "SliderStyleModel",
      "state": {
       "description_width": ""
      }
     },
     "a988c1f1bbfb4bdba62433ef115b6a91": {
      "model_module": "@jupyter-widgets/controls",
      "model_module_version": "1.5.0",
      "model_name": "IntSliderModel",
      "state": {
       "description": "cy1",
       "layout": "IPY_MODEL_688e4ffbf9854f4db2ce81483e065c80",
       "max": 8,
       "min": -8,
       "style": "IPY_MODEL_01af338a5b3a4655a6f9bee898aa4f6e",
       "value": 3
      }
     },
     "a9d7a0f63553428ba22c680a45279215": {
      "model_module": "@jupyter-widgets/base",
      "model_module_version": "1.2.0",
      "model_name": "LayoutModel",
      "state": {}
     },
     "aa57254412c74f2f8687000d982dd89b": {
      "model_module": "@jupyter-widgets/base",
      "model_module_version": "1.2.0",
      "model_name": "LayoutModel",
      "state": {}
     },
     "aa6ef09e88184e418fc22c4b385e281b": {
      "model_module": "@jupyter-widgets/controls",
      "model_module_version": "1.5.0",
      "model_name": "IntSliderModel",
      "state": {
       "description": "cy2",
       "layout": "IPY_MODEL_626cab9440bd4566a52f7ab5135a03e0",
       "max": 8,
       "min": -8,
       "style": "IPY_MODEL_ffeda187c1604130ae6a5fc122b250e3",
       "value": 8
      }
     },
     "ab965c6f6192428690f3a0541cd6a953": {
      "model_module": "@jupyter-widgets/base",
      "model_module_version": "1.2.0",
      "model_name": "LayoutModel",
      "state": {}
     },
     "ad060404311242579fda8b128b49d05a": {
      "model_module": "@jupyter-widgets/controls",
      "model_module_version": "1.5.0",
      "model_name": "SliderStyleModel",
      "state": {
       "description_width": ""
      }
     },
     "ae309076d5fd4b16be8592daafa3cbbe": {
      "model_module": "@jupyter-widgets/base",
      "model_module_version": "1.2.0",
      "model_name": "LayoutModel",
      "state": {}
     },
     "ae80d1c423004cb3b1b59b7abf31a39d": {
      "model_module": "@jupyter-widgets/base",
      "model_module_version": "1.2.0",
      "model_name": "LayoutModel",
      "state": {}
     },
     "b002c0ebdb9f4ab3b3fd31d0ec808deb": {
      "model_module": "@jupyter-widgets/controls",
      "model_module_version": "1.5.0",
      "model_name": "SliderStyleModel",
      "state": {
       "description_width": ""
      }
     },
     "b009909add924ee1939fbaddf0f026d0": {
      "model_module": "@jupyter-widgets/controls",
      "model_module_version": "1.5.0",
      "model_name": "SliderStyleModel",
      "state": {
       "description_width": ""
      }
     },
     "b06b65e8ccdf4bb3aa282728c7db4ed7": {
      "model_module": "@jupyter-widgets/base",
      "model_module_version": "1.2.0",
      "model_name": "LayoutModel",
      "state": {}
     },
     "b0af7c0a0f1a41f2a29564fe0574b27f": {
      "model_module": "@jupyter-widgets/base",
      "model_module_version": "1.2.0",
      "model_name": "LayoutModel",
      "state": {}
     },
     "b11646dc437743e19ec22639ff5bd823": {
      "model_module": "@jupyter-widgets/controls",
      "model_module_version": "1.5.0",
      "model_name": "ButtonModel",
      "state": {
       "description": "Plot",
       "layout": "IPY_MODEL_338f6f454a8b499abc4c3c725fb2fc13",
       "style": "IPY_MODEL_e66e8fe114f74a1092e561a87f72aa82"
      }
     },
     "b2367ede135446488400509ab3e20544": {
      "model_module": "@jupyter-widgets/controls",
      "model_module_version": "1.5.0",
      "model_name": "IntSliderModel",
      "state": {
       "description": "cy1",
       "layout": "IPY_MODEL_ab965c6f6192428690f3a0541cd6a953",
       "max": 8,
       "min": -8,
       "style": "IPY_MODEL_82d08a257afd4a0e80d1d65bc08c23f0",
       "value": -5
      }
     },
     "b3624bd6001e4a768f0d7910dedd7dbb": {
      "model_module": "@jupyter-widgets/base",
      "model_module_version": "1.2.0",
      "model_name": "LayoutModel",
      "state": {}
     },
     "b39ddd3ba0bf4896be3ef50075bf97d4": {
      "model_module": "@jupyter-widgets/controls",
      "model_module_version": "1.5.0",
      "model_name": "SliderStyleModel",
      "state": {
       "description_width": ""
      }
     },
     "b416c4c6b1a7423eaa66ea6aa473f94d": {
      "model_module": "@jupyter-widgets/controls",
      "model_module_version": "1.5.0",
      "model_name": "IntSliderModel",
      "state": {
       "description": "cy2",
       "layout": "IPY_MODEL_05d1c92bef5c46bbb523e0c61ac5ae28",
       "max": 8,
       "min": -8,
       "style": "IPY_MODEL_8fec9ae87a3f4db2932a3d58b45ea34f",
       "value": 8
      }
     },
     "b445dd9485724542975d21d77fc79cf3": {
      "model_module": "@jupyter-widgets/controls",
      "model_module_version": "1.5.0",
      "model_name": "IntSliderModel",
      "state": {
       "description": "rx2",
       "layout": "IPY_MODEL_871fbbfe561b4a25accb7bf32c3a1fef",
       "max": 8,
       "min": 1,
       "style": "IPY_MODEL_1451da12fa394866a6dec694b0153003",
       "value": 5
      }
     },
     "b59649049d6248798139efcce74a3bd5": {
      "model_module": "@jupyter-widgets/base",
      "model_module_version": "1.2.0",
      "model_name": "LayoutModel",
      "state": {}
     },
     "b6c5d17e5a0c4598926946f815bf846d": {
      "model_module": "@jupyter-widgets/base",
      "model_module_version": "1.2.0",
      "model_name": "LayoutModel",
      "state": {}
     },
     "b70ca2084e504ca7866160341ad24e8e": {
      "model_module": "@jupyter-widgets/controls",
      "model_module_version": "1.5.0",
      "model_name": "IntSliderModel",
      "state": {
       "description": "rx1",
       "layout": "IPY_MODEL_9c1fd49932194b0281708137b19642ba",
       "max": 8,
       "min": 1,
       "style": "IPY_MODEL_e61bf906e5664fa4af92fccdc1815ea5",
       "value": 6
      }
     },
     "b7421c14420249f9973ab72eace0336a": {
      "model_module": "@jupyter-widgets/controls",
      "model_module_version": "1.5.0",
      "model_name": "SliderStyleModel",
      "state": {
       "description_width": ""
      }
     },
     "b829ada333c64db5981b3a48f3920e97": {
      "model_module": "@jupyter-widgets/controls",
      "model_module_version": "1.5.0",
      "model_name": "ButtonModel",
      "state": {
       "description": "Plot",
       "layout": "IPY_MODEL_c3bddf54274448b69819bc3289e15c71",
       "style": "IPY_MODEL_7868854ddd1f4faf9e5830ce1ce93f05"
      }
     },
     "b841225e68da4c18b9b58f895502dbe7": {
      "model_module": "@jupyter-widgets/base",
      "model_module_version": "1.2.0",
      "model_name": "LayoutModel",
      "state": {}
     },
     "b8e6ee40dd9f4525afce42e253f0dfd6": {
      "model_module": "@jupyter-widgets/controls",
      "model_module_version": "1.5.0",
      "model_name": "ButtonModel",
      "state": {
       "description": "Plot",
       "layout": "IPY_MODEL_a9d7a0f63553428ba22c680a45279215",
       "style": "IPY_MODEL_c819070e39404f309625c5c19bc63935"
      }
     },
     "b93074ae7b8c4b8fb1104820d887a9b7": {
      "model_module": "@jupyter-widgets/base",
      "model_module_version": "1.2.0",
      "model_name": "LayoutModel",
      "state": {}
     },
     "ba15412e6e344a258998010bf504e4ee": {
      "model_module": "@jupyter-widgets/controls",
      "model_module_version": "1.5.0",
      "model_name": "IntSliderModel",
      "state": {
       "description": "rx2",
       "layout": "IPY_MODEL_164037861e8a417592917a37986469cb",
       "max": 8,
       "min": 1,
       "style": "IPY_MODEL_79359e188093454db038984eeff0df08",
       "value": 5
      }
     },
     "ba20f9dc81f04b239dd246b387b6f3de": {
      "model_module": "@jupyter-widgets/controls",
      "model_module_version": "1.5.0",
      "model_name": "IntSliderModel",
      "state": {
       "description": "cx1",
       "layout": "IPY_MODEL_b6c5d17e5a0c4598926946f815bf846d",
       "max": 8,
       "min": -8,
       "style": "IPY_MODEL_b39ddd3ba0bf4896be3ef50075bf97d4",
       "value": 5
      }
     },
     "bb0dbf6752da4be6a5dfa571e6b7c053": {
      "model_module": "@jupyter-widgets/controls",
      "model_module_version": "1.5.0",
      "model_name": "SliderStyleModel",
      "state": {
       "description_width": ""
      }
     },
     "bb5c89a53abc43148e6cbebbcbe8d4ad": {
      "model_module": "@jupyter-widgets/controls",
      "model_module_version": "1.5.0",
      "model_name": "SliderStyleModel",
      "state": {
       "description_width": ""
      }
     },
     "bc0aafe18ab64f519cca8d5378fcf0e6": {
      "model_module": "@jupyter-widgets/base",
      "model_module_version": "1.2.0",
      "model_name": "LayoutModel",
      "state": {}
     },
     "bd83f2b72bd446f89f7bbfa04bf59b36": {
      "model_module": "@jupyter-widgets/controls",
      "model_module_version": "1.5.0",
      "model_name": "IntSliderModel",
      "state": {
       "description": "cy2",
       "layout": "IPY_MODEL_4a688ef7b5964b07b740ec811b638490",
       "max": 8,
       "min": -8,
       "style": "IPY_MODEL_6ee958655df94405a454895a4a0e0949",
       "value": 8
      }
     },
     "be1e94c8cd02450c920132897d86961a": {
      "model_module": "@jupyter-widgets/controls",
      "model_module_version": "1.5.0",
      "model_name": "IntSliderModel",
      "state": {
       "description": "rx1",
       "layout": "IPY_MODEL_f444884a2bba49d7a09ed072f4189ae7",
       "max": 8,
       "min": 1,
       "style": "IPY_MODEL_bb0dbf6752da4be6a5dfa571e6b7c053",
       "value": 5
      }
     },
     "beac9d05ac744296aedc2e6ce0107220": {
      "model_module": "@jupyter-widgets/controls",
      "model_module_version": "1.5.0",
      "model_name": "IntSliderModel",
      "state": {
       "description": "cx1",
       "layout": "IPY_MODEL_62f07065f5834d5dad93e3ba89787c8c",
       "max": 8,
       "min": -8,
       "style": "IPY_MODEL_90bdeb056ec44283bde17e371f8d84db",
       "value": 5
      }
     },
     "c05ad026ee4e4011b9f8eed97bc2ea6c": {
      "model_module": "@jupyter-widgets/controls",
      "model_module_version": "1.5.0",
      "model_name": "SliderStyleModel",
      "state": {
       "description_width": ""
      }
     },
     "c08776e71f004e72a7ef18dae2964214": {
      "model_module": "@jupyter-widgets/controls",
      "model_module_version": "1.5.0",
      "model_name": "SliderStyleModel",
      "state": {
       "description_width": ""
      }
     },
     "c236b3f747b94467b3c275fb276154ae": {
      "model_module": "@jupyter-widgets/controls",
      "model_module_version": "1.5.0",
      "model_name": "IntSliderModel",
      "state": {
       "description": "cx1",
       "layout": "IPY_MODEL_0e325027738d445db5262b6a465ce368",
       "max": 8,
       "min": -8,
       "style": "IPY_MODEL_db961135103d4b4693649eab308f60de",
       "value": 5
      }
     },
     "c2cd25a2b5284be1ac51bbaf657494f3": {
      "model_module": "@jupyter-widgets/controls",
      "model_module_version": "1.5.0",
      "model_name": "SliderStyleModel",
      "state": {
       "description_width": ""
      }
     },
     "c3bddf54274448b69819bc3289e15c71": {
      "model_module": "@jupyter-widgets/base",
      "model_module_version": "1.2.0",
      "model_name": "LayoutModel",
      "state": {}
     },
     "c40a0d67e8b04204afff0e259107e629": {
      "model_module": "@jupyter-widgets/controls",
      "model_module_version": "1.5.0",
      "model_name": "IntSliderModel",
      "state": {
       "description": "cy1",
       "layout": "IPY_MODEL_f6b157baffbb4344af2541ef6e418522",
       "max": 8,
       "min": -8,
       "style": "IPY_MODEL_37ff040d8bcc43ebb5f6a697f36139e9",
       "value": 3
      }
     },
     "c6dc3c09dfee45a291dd0f815d33babd": {
      "model_module": "@jupyter-widgets/controls",
      "model_module_version": "1.5.0",
      "model_name": "SliderStyleModel",
      "state": {
       "description_width": ""
      }
     },
     "c819070e39404f309625c5c19bc63935": {
      "model_module": "@jupyter-widgets/controls",
      "model_module_version": "1.5.0",
      "model_name": "ButtonStyleModel",
      "state": {}
     },
     "c83ad066ae934a8eb03933b4bb0ca0bf": {
      "model_module": "@jupyter-widgets/base",
      "model_module_version": "1.2.0",
      "model_name": "LayoutModel",
      "state": {}
     },
     "c884b0ef734445f8bd656ff2cb22a905": {
      "model_module": "@jupyter-widgets/controls",
      "model_module_version": "1.5.0",
      "model_name": "SliderStyleModel",
      "state": {
       "description_width": ""
      }
     },
     "c8b12504fd0d4a309043bfa79d1aaefa": {
      "model_module": "@jupyter-widgets/controls",
      "model_module_version": "1.5.0",
      "model_name": "IntSliderModel",
      "state": {
       "description": "rx2",
       "layout": "IPY_MODEL_080aa5f4f80a4d8d94a0bdc254f65c84",
       "max": 8,
       "min": 1,
       "style": "IPY_MODEL_c6dc3c09dfee45a291dd0f815d33babd",
       "value": 5
      }
     },
     "c909c340bb9049958bd33b7d52a202d8": {
      "model_module": "@jupyter-widgets/controls",
      "model_module_version": "1.5.0",
      "model_name": "SliderStyleModel",
      "state": {
       "description_width": ""
      }
     },
     "c97ef3aa6e4c4c96b7d016e4674c7b67": {
      "model_module": "@jupyter-widgets/controls",
      "model_module_version": "1.5.0",
      "model_name": "IntSliderModel",
      "state": {
       "description": "cy2",
       "layout": "IPY_MODEL_e0dc26f46b9c4d1f8878c7574fca95df",
       "max": 8,
       "min": -8,
       "style": "IPY_MODEL_42e95d747250408abaec52d5833b7944",
       "value": 8
      }
     },
     "ca59fff9dcc547f091526739a3280c8c": {
      "model_module": "@jupyter-widgets/base",
      "model_module_version": "1.2.0",
      "model_name": "LayoutModel",
      "state": {}
     },
     "ca85b33f933044cab9995a2ea6373480": {
      "model_module": "@jupyter-widgets/base",
      "model_module_version": "1.2.0",
      "model_name": "LayoutModel",
      "state": {}
     },
     "cad3c4b8c08e451991fe6e06f7aa9440": {
      "model_module": "@jupyter-widgets/controls",
      "model_module_version": "1.5.0",
      "model_name": "SliderStyleModel",
      "state": {
       "description_width": ""
      }
     },
     "cb36aa89e05c470085fbad968a1bb6ca": {
      "model_module": "@jupyter-widgets/controls",
      "model_module_version": "1.5.0",
      "model_name": "ButtonStyleModel",
      "state": {}
     },
     "cbaefe28c8d9418bae053f14fb78064f": {
      "model_module": "@jupyter-widgets/base",
      "model_module_version": "1.2.0",
      "model_name": "LayoutModel",
      "state": {}
     },
     "cc31d1e384974921b03dc97690eec59e": {
      "model_module": "@jupyter-widgets/controls",
      "model_module_version": "1.5.0",
      "model_name": "IntSliderModel",
      "state": {
       "description": "rx1",
       "layout": "IPY_MODEL_51050de91bfa4087a79de22e3afa17c3",
       "max": 8,
       "min": 1,
       "style": "IPY_MODEL_c08776e71f004e72a7ef18dae2964214",
       "value": 5
      }
     },
     "cc731fdb455c4d52864e635a7b49d988": {
      "model_module": "@jupyter-widgets/controls",
      "model_module_version": "1.5.0",
      "model_name": "IntSliderModel",
      "state": {
       "description": "cy2",
       "layout": "IPY_MODEL_7f4d410ff2ef4b3b9f17d663a68f469e",
       "max": 8,
       "min": -8,
       "style": "IPY_MODEL_19d08414cf60481dbd87bad34e02e6d8",
       "value": 8
      }
     },
     "cebb6ce7666a47c9a858d5a09cc9a99f": {
      "model_module": "@jupyter-widgets/controls",
      "model_module_version": "1.5.0",
      "model_name": "IntSliderModel",
      "state": {
       "description": "cy1",
       "layout": "IPY_MODEL_92e2e7d6fc4a43c9ad802133e994e31a",
       "max": 8,
       "min": -8,
       "style": "IPY_MODEL_de7f2fd62a904c3cb0c1b4b119bbd62d",
       "value": 3
      }
     },
     "cee99698127e453289c6819a0f4306ee": {
      "model_module": "@jupyter-widgets/base",
      "model_module_version": "1.2.0",
      "model_name": "LayoutModel",
      "state": {}
     },
     "cfecf07f7c1a4f1aad420906792a020a": {
      "model_module": "@jupyter-widgets/controls",
      "model_module_version": "1.5.0",
      "model_name": "SliderStyleModel",
      "state": {
       "description_width": ""
      }
     },
     "d11723e3b8654708ab08643ef35b4ef5": {
      "model_module": "@jupyter-widgets/controls",
      "model_module_version": "1.5.0",
      "model_name": "SliderStyleModel",
      "state": {
       "description_width": ""
      }
     },
     "d257435e89fd44bebc5888ec1b7e8345": {
      "model_module": "@jupyter-widgets/base",
      "model_module_version": "1.2.0",
      "model_name": "LayoutModel",
      "state": {}
     },
     "d52be1187d9f49a988d803a93cd02859": {
      "model_module": "@jupyter-widgets/controls",
      "model_module_version": "1.5.0",
      "model_name": "SliderStyleModel",
      "state": {
       "description_width": ""
      }
     },
     "d597e2fc0d9e448f8c8b5d176034d9a3": {
      "model_module": "@jupyter-widgets/controls",
      "model_module_version": "1.5.0",
      "model_name": "SliderStyleModel",
      "state": {
       "description_width": ""
      }
     },
     "d6358c7535934757a80ca50651a81f86": {
      "model_module": "@jupyter-widgets/controls",
      "model_module_version": "1.5.0",
      "model_name": "IntSliderModel",
      "state": {
       "description": "cx1",
       "layout": "IPY_MODEL_9266f7a6e68a4f368969fb379664d9b2",
       "max": 8,
       "min": -8,
       "style": "IPY_MODEL_4a6d5e8593af4576879357a7669c3c20",
       "value": 5
      }
     },
     "d753b0872f0645c88c6fba192572b9c4": {
      "model_module": "@jupyter-widgets/base",
      "model_module_version": "1.2.0",
      "model_name": "LayoutModel",
      "state": {}
     },
     "d850794d5568483a9a3ea8a3343e8aa1": {
      "model_module": "@jupyter-widgets/controls",
      "model_module_version": "1.5.0",
      "model_name": "SliderStyleModel",
      "state": {
       "description_width": ""
      }
     },
     "d899dfd0aa8c421687425be98ad7b992": {
      "model_module": "@jupyter-widgets/controls",
      "model_module_version": "1.5.0",
      "model_name": "IntSliderModel",
      "state": {
       "description": "cy2",
       "layout": "IPY_MODEL_1cac79bda34f4dd9901a829259fe4ab2",
       "max": 8,
       "min": -8,
       "style": "IPY_MODEL_d52be1187d9f49a988d803a93cd02859",
       "value": 8
      }
     },
     "d92895cd67d24691af6bfd94f87cbd58": {
      "model_module": "@jupyter-widgets/controls",
      "model_module_version": "1.5.0",
      "model_name": "IntSliderModel",
      "state": {
       "description": "cy1",
       "layout": "IPY_MODEL_58c47c1954944395821a5c5d330ec097",
       "max": 8,
       "min": -8,
       "style": "IPY_MODEL_c05ad026ee4e4011b9f8eed97bc2ea6c",
       "value": 3
      }
     },
     "d9302a5018ec42dfa549d3adb2b2967a": {
      "model_module": "@jupyter-widgets/controls",
      "model_module_version": "1.5.0",
      "model_name": "IntSliderModel",
      "state": {
       "description": "cy2",
       "layout": "IPY_MODEL_4af604582a8e4dbfaf94e2081736311f",
       "max": 8,
       "min": -8,
       "style": "IPY_MODEL_36cfc54eef5a4152880f9b999ad60a00",
       "value": 8
      }
     },
     "d9f21270b6e94ef1b47d5baf3377e085": {
      "model_module": "@jupyter-widgets/controls",
      "model_module_version": "1.5.0",
      "model_name": "SliderStyleModel",
      "state": {
       "description_width": ""
      }
     },
     "db961135103d4b4693649eab308f60de": {
      "model_module": "@jupyter-widgets/controls",
      "model_module_version": "1.5.0",
      "model_name": "SliderStyleModel",
      "state": {
       "description_width": ""
      }
     },
     "dbdd96f738a7462a971fba798184d8bf": {
      "model_module": "@jupyter-widgets/controls",
      "model_module_version": "1.5.0",
      "model_name": "SliderStyleModel",
      "state": {
       "description_width": ""
      }
     },
     "dc55e7f06897465c82fa14fd07c91386": {
      "model_module": "@jupyter-widgets/controls",
      "model_module_version": "1.5.0",
      "model_name": "IntSliderModel",
      "state": {
       "description": "cx2",
       "layout": "IPY_MODEL_6ada1da25c2e4a2e9c9595ac2e6267ad",
       "max": 8,
       "min": -8,
       "style": "IPY_MODEL_892f77acc1754928a65d26b07a20087b",
       "value": 8
      }
     },
     "de7f2fd62a904c3cb0c1b4b119bbd62d": {
      "model_module": "@jupyter-widgets/controls",
      "model_module_version": "1.5.0",
      "model_name": "SliderStyleModel",
      "state": {
       "description_width": ""
      }
     },
     "dec989792c2a43a0be1c128bdbb3b5ac": {
      "model_module": "@jupyter-widgets/controls",
      "model_module_version": "1.5.0",
      "model_name": "IntSliderModel",
      "state": {
       "description": "cy2",
       "layout": "IPY_MODEL_e6c23273ba7b423680f654884806556f",
       "max": 8,
       "min": -8,
       "style": "IPY_MODEL_726892af1bd94350b7c515f1c4c9aa8b",
       "value": 8
      }
     },
     "df01340909c744b4b8953aa23ec1c45e": {
      "model_module": "@jupyter-widgets/controls",
      "model_module_version": "1.5.0",
      "model_name": "SliderStyleModel",
      "state": {
       "description_width": ""
      }
     },
     "df1156831f81410e8f6150cffc758c8a": {
      "model_module": "@jupyter-widgets/base",
      "model_module_version": "1.2.0",
      "model_name": "LayoutModel",
      "state": {}
     },
     "dfe6b4c30c1b4be8bb7d2ef4f587fd04": {
      "model_module": "@jupyter-widgets/controls",
      "model_module_version": "1.5.0",
      "model_name": "IntSliderModel",
      "state": {
       "description": "cx1",
       "layout": "IPY_MODEL_8dfb29fd2b7846e7857feab761457192",
       "max": 8,
       "min": -8,
       "style": "IPY_MODEL_32f69ed1dc9042119ed13b9e8fd4bac6",
       "value": 5
      }
     },
     "e0b994ca92a847d69c25099744ce1f61": {
      "model_module": "@jupyter-widgets/base",
      "model_module_version": "1.2.0",
      "model_name": "LayoutModel",
      "state": {}
     },
     "e0dc26f46b9c4d1f8878c7574fca95df": {
      "model_module": "@jupyter-widgets/base",
      "model_module_version": "1.2.0",
      "model_name": "LayoutModel",
      "state": {}
     },
     "e166f40880fd46c3b516426d465623f2": {
      "model_module": "@jupyter-widgets/controls",
      "model_module_version": "1.5.0",
      "model_name": "SliderStyleModel",
      "state": {
       "description_width": ""
      }
     },
     "e3303e50afb24bb0b466a9316a21bac4": {
      "model_module": "@jupyter-widgets/base",
      "model_module_version": "1.2.0",
      "model_name": "LayoutModel",
      "state": {}
     },
     "e61bf906e5664fa4af92fccdc1815ea5": {
      "model_module": "@jupyter-widgets/controls",
      "model_module_version": "1.5.0",
      "model_name": "SliderStyleModel",
      "state": {
       "description_width": ""
      }
     },
     "e66e8fe114f74a1092e561a87f72aa82": {
      "model_module": "@jupyter-widgets/controls",
      "model_module_version": "1.5.0",
      "model_name": "ButtonStyleModel",
      "state": {}
     },
     "e67bc0f7f7d24e229bce90191328eb60": {
      "model_module": "@jupyter-widgets/base",
      "model_module_version": "1.2.0",
      "model_name": "LayoutModel",
      "state": {}
     },
     "e6c23273ba7b423680f654884806556f": {
      "model_module": "@jupyter-widgets/base",
      "model_module_version": "1.2.0",
      "model_name": "LayoutModel",
      "state": {}
     },
     "e71eed18ca3f45afbd2d8d7d0ee8de8c": {
      "model_module": "@jupyter-widgets/controls",
      "model_module_version": "1.5.0",
      "model_name": "IntSliderModel",
      "state": {
       "description": "cx1",
       "layout": "IPY_MODEL_330b8a68aab64277826a14ace5ba701f",
       "max": 8,
       "min": -8,
       "style": "IPY_MODEL_ad060404311242579fda8b128b49d05a",
       "value": 5
      }
     },
     "e8b03c5a13ee46abb1721530179dbe95": {
      "model_module": "@jupyter-widgets/base",
      "model_module_version": "1.2.0",
      "model_name": "LayoutModel",
      "state": {}
     },
     "e91feb6532584291a215534b7bfdb1a2": {
      "model_module": "@jupyter-widgets/base",
      "model_module_version": "1.2.0",
      "model_name": "LayoutModel",
      "state": {}
     },
     "e92e6cfedac2439d9c49203f387d024a": {
      "model_module": "@jupyter-widgets/base",
      "model_module_version": "1.2.0",
      "model_name": "LayoutModel",
      "state": {}
     },
     "e94ae38c83b4439dbb045a0129034a78": {
      "model_module": "@jupyter-widgets/controls",
      "model_module_version": "1.5.0",
      "model_name": "IntSliderModel",
      "state": {
       "description": "rx2",
       "layout": "IPY_MODEL_e0b994ca92a847d69c25099744ce1f61",
       "max": 8,
       "min": 1,
       "style": "IPY_MODEL_b002c0ebdb9f4ab3b3fd31d0ec808deb",
       "value": 5
      }
     },
     "e95ecc4b29a949a2a9f8d92e869b1a90": {
      "model_module": "@jupyter-widgets/controls",
      "model_module_version": "1.5.0",
      "model_name": "SliderStyleModel",
      "state": {
       "description_width": ""
      }
     },
     "e987d25dbe5f49b28d7eb6e215edd76b": {
      "model_module": "@jupyter-widgets/controls",
      "model_module_version": "1.5.0",
      "model_name": "ButtonStyleModel",
      "state": {}
     },
     "ea0888b766b94b69a505537c1f965b50": {
      "model_module": "@jupyter-widgets/base",
      "model_module_version": "1.2.0",
      "model_name": "LayoutModel",
      "state": {}
     },
     "ea1f159aa62643b3815757a9100f8c75": {
      "model_module": "@jupyter-widgets/controls",
      "model_module_version": "1.5.0",
      "model_name": "ButtonStyleModel",
      "state": {}
     },
     "eacfef9a19fd4da3a24aa04a9762bbb8": {
      "model_module": "@jupyter-widgets/controls",
      "model_module_version": "1.5.0",
      "model_name": "IntSliderModel",
      "state": {
       "description": "cx1",
       "layout": "IPY_MODEL_37b9c3867a7c489e91884beb1f851b4b",
       "max": 8,
       "min": -8,
       "style": "IPY_MODEL_b7421c14420249f9973ab72eace0336a",
       "value": 5
      }
     },
     "ead7fed0003d41fb9fa07be07d1400a7": {
      "model_module": "@jupyter-widgets/base",
      "model_module_version": "1.2.0",
      "model_name": "LayoutModel",
      "state": {}
     },
     "ed964fc9cd0548c2aab7deaab7c679aa": {
      "model_module": "@jupyter-widgets/controls",
      "model_module_version": "1.5.0",
      "model_name": "IntSliderModel",
      "state": {
       "description": "cy2",
       "layout": "IPY_MODEL_7b47e3466ad543b397e33009042b958a",
       "max": 8,
       "min": -8,
       "style": "IPY_MODEL_94a3dc9c4f7c4717844234714e110304",
       "value": 8
      }
     },
     "edca0704e78e41d8aab298306f3cd037": {
      "model_module": "@jupyter-widgets/controls",
      "model_module_version": "1.5.0",
      "model_name": "SliderStyleModel",
      "state": {
       "description_width": ""
      }
     },
     "ede013dc094b4569b9fc3c10f4fb26a2": {
      "model_module": "@jupyter-widgets/base",
      "model_module_version": "1.2.0",
      "model_name": "LayoutModel",
      "state": {}
     },
     "eedc7a8b82e54b43a2a2e0511dd29a1b": {
      "model_module": "@jupyter-widgets/controls",
      "model_module_version": "1.5.0",
      "model_name": "IntSliderModel",
      "state": {
       "description": "cx2",
       "layout": "IPY_MODEL_448fef4626cf4ae2b0e50b7fc8ae9fb6",
       "max": 8,
       "min": -8,
       "style": "IPY_MODEL_1d8ce90cd7d146d09ed4ea7fe17e821e",
       "value": 8
      }
     },
     "ef728324b5984d639014c45c88f2d059": {
      "model_module": "@jupyter-widgets/controls",
      "model_module_version": "1.5.0",
      "model_name": "IntSliderModel",
      "state": {
       "description": "rx2",
       "layout": "IPY_MODEL_440367947f3d414998799f8550767cda",
       "max": 8,
       "min": 1,
       "style": "IPY_MODEL_d11723e3b8654708ab08643ef35b4ef5",
       "value": 5
      }
     },
     "efc8c731939d4b11b5f1213c7a9541c7": {
      "model_module": "@jupyter-widgets/controls",
      "model_module_version": "1.5.0",
      "model_name": "IntSliderModel",
      "state": {
       "description": "cx2",
       "layout": "IPY_MODEL_e8b03c5a13ee46abb1721530179dbe95",
       "max": 8,
       "min": -8,
       "style": "IPY_MODEL_d850794d5568483a9a3ea8a3343e8aa1",
       "value": -4
      }
     },
     "f0245e98c20f4057a7c4bdeee836b117": {
      "model_module": "@jupyter-widgets/controls",
      "model_module_version": "1.5.0",
      "model_name": "SliderStyleModel",
      "state": {
       "description_width": ""
      }
     },
     "f03f4455af7d4e28bc933a640c15c774": {
      "model_module": "@jupyter-widgets/base",
      "model_module_version": "1.2.0",
      "model_name": "LayoutModel",
      "state": {}
     },
     "f24fa31649b7475893ed19f01a649d6e": {
      "model_module": "@jupyter-widgets/controls",
      "model_module_version": "1.5.0",
      "model_name": "IntSliderModel",
      "state": {
       "description": "cy1",
       "layout": "IPY_MODEL_74238048900341bf94f2fa3303d97907",
       "max": 8,
       "min": -8,
       "style": "IPY_MODEL_6bb5e3c338dc4d219b5ca9b338a94a34",
       "value": 3
      }
     },
     "f39790e842d841fda282ad19113fa195": {
      "model_module": "@jupyter-widgets/controls",
      "model_module_version": "1.5.0",
      "model_name": "SliderStyleModel",
      "state": {
       "description_width": ""
      }
     },
     "f444884a2bba49d7a09ed072f4189ae7": {
      "model_module": "@jupyter-widgets/base",
      "model_module_version": "1.2.0",
      "model_name": "LayoutModel",
      "state": {}
     },
     "f4d571b5d2ab4afb8d52552eb2691293": {
      "model_module": "@jupyter-widgets/controls",
      "model_module_version": "1.5.0",
      "model_name": "SliderStyleModel",
      "state": {
       "description_width": ""
      }
     },
     "f538d472c5b246f2bf11e3164cad1962": {
      "model_module": "@jupyter-widgets/base",
      "model_module_version": "1.2.0",
      "model_name": "LayoutModel",
      "state": {}
     },
     "f6ab1d8bdbb44b589dd35ecef539e755": {
      "model_module": "@jupyter-widgets/base",
      "model_module_version": "1.2.0",
      "model_name": "LayoutModel",
      "state": {}
     },
     "f6b157baffbb4344af2541ef6e418522": {
      "model_module": "@jupyter-widgets/base",
      "model_module_version": "1.2.0",
      "model_name": "LayoutModel",
      "state": {}
     },
     "f6ba8b16599144fba906e33b4caa9ab8": {
      "model_module": "@jupyter-widgets/controls",
      "model_module_version": "1.5.0",
      "model_name": "SliderStyleModel",
      "state": {
       "description_width": ""
      }
     },
     "f89aec457fc6467d835f8e7a44c30197": {
      "model_module": "@jupyter-widgets/base",
      "model_module_version": "1.2.0",
      "model_name": "LayoutModel",
      "state": {}
     },
     "fa478c2f266742cf97a20e6d9cbf87c8": {
      "model_module": "@jupyter-widgets/controls",
      "model_module_version": "1.5.0",
      "model_name": "SliderStyleModel",
      "state": {
       "description_width": ""
      }
     },
     "fbd4123dec524400b7422335f5c7b0d8": {
      "model_module": "@jupyter-widgets/controls",
      "model_module_version": "1.5.0",
      "model_name": "IntSliderModel",
      "state": {
       "description": "cy1",
       "layout": "IPY_MODEL_53d9f9fa727c4fc1aa0f17daa1ce4817",
       "max": 8,
       "min": -8,
       "style": "IPY_MODEL_61473330591b4b82812a18416bc04064",
       "value": 3
      }
     },
     "fbf685b7aed9472aabb73c6f722ec26e": {
      "model_module": "@jupyter-widgets/controls",
      "model_module_version": "1.5.0",
      "model_name": "IntSliderModel",
      "state": {
       "description": "cx2",
       "layout": "IPY_MODEL_df1156831f81410e8f6150cffc758c8a",
       "max": 8,
       "min": -8,
       "style": "IPY_MODEL_251b29c3422649ec93e69fe750946f92",
       "value": 8
      }
     },
     "fcea464b33e44f54af75ff6a80141bab": {
      "model_module": "@jupyter-widgets/base",
      "model_module_version": "1.2.0",
      "model_name": "LayoutModel",
      "state": {}
     },
     "fd4b74510dda4c8ca8865ef1e687fb37": {
      "model_module": "@jupyter-widgets/base",
      "model_module_version": "1.2.0",
      "model_name": "LayoutModel",
      "state": {}
     },
     "fd6fb5b5f54344be8e23de91c3c833d7": {
      "model_module": "@jupyter-widgets/controls",
      "model_module_version": "1.5.0",
      "model_name": "IntSliderModel",
      "state": {
       "description": "cy2",
       "layout": "IPY_MODEL_4e710abb2e3b45a6b8d8a81106e4ba0a",
       "max": 8,
       "min": -8,
       "style": "IPY_MODEL_2083ba6cebfb4c189fbe2a1f9bfa2d66",
       "value": 8
      }
     },
     "fdae609275e740dfa132d20e3175a75d": {
      "model_module": "@jupyter-widgets/base",
      "model_module_version": "1.2.0",
      "model_name": "LayoutModel",
      "state": {}
     },
     "fe40d3f976174a08a7353b9cc34c6da4": {
      "model_module": "@jupyter-widgets/controls",
      "model_module_version": "1.5.0",
      "model_name": "SliderStyleModel",
      "state": {
       "description_width": ""
      }
     },
     "ff1ca218130a4c13a31ccb9bdccda73c": {
      "model_module": "@jupyter-widgets/controls",
      "model_module_version": "1.5.0",
      "model_name": "SliderStyleModel",
      "state": {
       "description_width": ""
      }
     },
     "ffeda187c1604130ae6a5fc122b250e3": {
      "model_module": "@jupyter-widgets/controls",
      "model_module_version": "1.5.0",
      "model_name": "SliderStyleModel",
      "state": {
       "description_width": ""
      }
     }
    },
    "version_major": 2,
    "version_minor": 0
   }
  }
 },
 "nbformat": 4,
 "nbformat_minor": 5
}
