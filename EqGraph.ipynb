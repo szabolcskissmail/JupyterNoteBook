{
 "cells": [
  {
   "cell_type": "code",
   "execution_count": 56,
   "id": "5c2e9f14-8d14-4708-b34f-f00f2610da92",
   "metadata": {
    "tags": []
   },
   "outputs": [
    {
     "data": {
      "application/vnd.jupyter.widget-view+json": {
       "model_id": "a648ff2447df458a8ae08a061e2cda43",
       "version_major": 2,
       "version_minor": 0
      },
      "text/plain": [
       "IntSlider(value=5, description='cx1', max=8, min=-8)"
      ]
     },
     "metadata": {},
     "output_type": "display_data"
    },
    {
     "data": {
      "application/vnd.jupyter.widget-view+json": {
       "model_id": "8c86b1b69e8d45eca06b1888867b861b",
       "version_major": 2,
       "version_minor": 0
      },
      "text/plain": [
       "IntSlider(value=3, description='cy1', max=8, min=-8)"
      ]
     },
     "metadata": {},
     "output_type": "display_data"
    },
    {
     "data": {
      "application/vnd.jupyter.widget-view+json": {
       "model_id": "1c7e884938d44138bf1b9c2969667d74",
       "version_major": 2,
       "version_minor": 0
      },
      "text/plain": [
       "IntSlider(value=5, description='rx1', max=8, min=1)"
      ]
     },
     "metadata": {},
     "output_type": "display_data"
    },
    {
     "data": {
      "application/vnd.jupyter.widget-view+json": {
       "model_id": "b4801d4655274ecf90db9ea6f16071f3",
       "version_major": 2,
       "version_minor": 0
      },
      "text/plain": [
       "IntSlider(value=8, description='cx2', max=8, min=-8)"
      ]
     },
     "metadata": {},
     "output_type": "display_data"
    },
    {
     "data": {
      "application/vnd.jupyter.widget-view+json": {
       "model_id": "f1688d9e030046dd951a65f29ec4096e",
       "version_major": 2,
       "version_minor": 0
      },
      "text/plain": [
       "IntSlider(value=8, description='cy2', max=8, min=-8)"
      ]
     },
     "metadata": {},
     "output_type": "display_data"
    },
    {
     "data": {
      "application/vnd.jupyter.widget-view+json": {
       "model_id": "7ab24e4ea7e94f9ebe6c4a9d569f7725",
       "version_major": 2,
       "version_minor": 0
      },
      "text/plain": [
       "IntSlider(value=5, description='rx2', max=8, min=1)"
      ]
     },
     "metadata": {},
     "output_type": "display_data"
    },
    {
     "data": {
      "application/vnd.jupyter.widget-view+json": {
       "model_id": "5336e0e5d14b4391a5eeeddd930b058f",
       "version_major": 2,
       "version_minor": 0
      },
      "text/plain": [
       "Button(description='Plot', style=ButtonStyle())"
      ]
     },
     "metadata": {},
     "output_type": "display_data"
    },
    {
     "data": {
      "image/png": "[encoded data removed]",
      "text/plain": [
       "<Figure size 432x288 with 1 Axes>"
      ]
     },
     "metadata": {
      "needs_background": "light"
     },
     "output_type": "display_data"
    }
   ],
   "source": [
    "import matplotlib.pyplot as plt\n",
    "import numpy as np\n",
    "import math    \n",
    "import ipywidgets as widgets\n",
    "from IPython.display import display\n",
    "from IPython.display import clear_output\n",
    "\n",
    "\n",
    "def get_intersections(x0, y0, r0, x1, y1, r1):\n",
    "    # circle 1: (x0, y0), radius r0\n",
    "    # circle 2: (x1, y1), radius r1\n",
    "\n",
    "    d=math.sqrt((x1-x0)**2 + (y1-y0)**2)\n",
    "    \n",
    "    # non intersecting\n",
    "    if d > r0 + r1 :\n",
    "        return None\n",
    "    # One circle within other\n",
    "    if d < abs(r0-r1):\n",
    "        return None\n",
    "    # coincident circles\n",
    "    if d == 0 and r0 == r1:\n",
    "        return None\n",
    "    else:\n",
    "        a=(r0**2-r1**2+d**2)/(2*d)\n",
    "        h=math.sqrt(r0**2-a**2)\n",
    "        x2=x0+a*(x1-x0)/d   \n",
    "        y2=y0+a*(y1-y0)/d   \n",
    "        x3=x2+h*(y1-y0)/d     \n",
    "        y3=y2-h*(x1-x0)/d \n",
    "\n",
    "        x4=x2-h*(y1-y0)/d\n",
    "        y4=y2+h*(x1-x0)/d\n",
    "        \n",
    "        return ((x3, y3), (x4, y4))\n",
    "    \n",
    "def calcValues():\n",
    "    c1x=wcx1.value\n",
    "    c1y=wcy1.value\n",
    "    c2x=wcx2.value\n",
    "    c2y=wcy2.value\n",
    "    r1=wr1.value\n",
    "    r2=wr2.value\n",
    "    xaxisMax = max(abs(c1x)+r1, abs(c2x)+r2)*2\n",
    "    yaxisMax = max(abs(c1y)+r1, abs(c2y)+r2)*2\n",
    "\n",
    "    fig, ax = plt.subplots()\n",
    "    plt.axis([-xaxisMax, xaxisMax, -yaxisMax, yaxisMax])\n",
    "    ax.spines['left'].set_position('center')\n",
    "    ax.spines['bottom'].set_position('center')\n",
    "    ax.spines['right'].set_color('none')\n",
    "    ax.spines['top'].set_color('none')\n",
    "    ax.xaxis.set_ticks_position('bottom')\n",
    "    ax.yaxis.set_ticks_position('left')\n",
    "    ax.set_ylabel('y')\n",
    "    ax.set_xlabel('x')\n",
    "    ax.set_title('Test')\n",
    "    ax.set_aspect('equal')\n",
    "\n",
    "    c1=plt.Circle((c1x,c1y),r1, fill=False, color='red')\n",
    "    c2=plt.Circle((c2x,c2y), r2, fill=False, color='red')\n",
    "    ax.add_artist(c1)\n",
    "    ax.add_artist(c2)\n",
    "    l=get_intersections(c1x,c1y, r1,c2x,c2y,r2)\n",
    "    if l!=None:\n",
    "        plt.axline(l[0],l[1], alpha=0.5)\n",
    "    plt.show()\n",
    "\n",
    "wcx1 = widgets.IntSlider(value=5, min=-8,max=8,description='cx1')\n",
    "wcy1 = widgets.IntSlider(value=3, min=-8,max=8,description='cy1')\n",
    "wr1 = widgets.IntSlider(value=5, min=1,max=8,description='rx1')\n",
    "wcx2 = widgets.IntSlider(value=9, min=-8,max=8,description='cx2')\n",
    "wcy2 = widgets.IntSlider(value=8, min=-8,max=8,description='cy2')\n",
    "wr2 = widgets.IntSlider(value=5, min=1,max=8,description='rx2')\n",
    "\n",
    "button = widgets.Button(\n",
    "    description='Plot',\n",
    ")\n",
    "\n",
    "def showWidgets():\n",
    "    clear_output()\n",
    "    display(wcx1)\n",
    "    display(wcy1)\n",
    "    display(wr1)\n",
    "    display(wcx2)\n",
    "    display(wcy2)\n",
    "    display(wr2)\n",
    "    display(button)    \n",
    "\n",
    "@button.on_click\n",
    "def plot_on_click(b):\n",
    "    showWidgets()\n",
    "    calcValues()\n",
    "    \n",
    "showWidgets()\n",
    "calcValues()"
   ]
  },
  {
   "cell_type": "code",
   "execution_count": null,
   "id": "7d80cce6-d5f6-41d4-969c-8323d40228fc",
   "metadata": {},
   "outputs": [],
   "source": []
  },
  {
   "cell_type": "markdown",
   "id": "a17f1af7",
   "metadata": {},
   "source": [
    "# Test development"
   ]
  },
  {
   "cell_type": "markdown",
   "id": "72cc8758",
   "metadata": {},
   "source": []
  },
  {
   "cell_type": "code",
   "execution_count": null,
   "id": "0720eafb-b6ba-470a-a8c6-39a0846289ab",
   "metadata": {},
   "outputs": [],
   "source": []
  }
 ],
 "metadata": {
  "kernelspec": {
   "display_name": "Python 3 (ipykernel)",
   "language": "python",
   "name": "python3"
  },
  "language_info": {
   "codemirror_mode": {
    "name": "ipython",
    "version": 3
   },
   "file_extension": ".py",
   "mimetype": "text/x-python",
   "name": "python",
   "nbconvert_exporter": "python",
   "pygments_lexer": "ipython3",
   "version": "3.9.12"
  }
 },
 "nbformat": 4,
 "nbformat_minor": 5
}
